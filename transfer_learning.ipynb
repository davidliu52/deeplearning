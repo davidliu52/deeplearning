{
 "cells": [
  {
   "cell_type": "code",
   "execution_count": 1,
   "metadata": {},
   "outputs": [],
   "source": [
    "import os\n",
    "import warnings\n",
    "import numpy as np\n",
    "import matplotlib.pyplot as plt\n",
    "import tensorflow as tf\n",
    "from tensorflow.keras import layers\n",
    "from tensorflow.keras import models\n",
    "from tensorflow.keras.optimizers import Adam\n",
    "from tensorflow.keras.preprocessing.image import ImageDataGenerator\n",
    "from tensorflow.keras.callbacks import ModelCheckpoint, EarlyStopping, ReduceLROnPlateau\n"
   ]
  },
  {
   "cell_type": "code",
   "execution_count": 2,
   "metadata": {},
   "outputs": [],
   "source": [
    "base_dir = r'D:\\studydata\\machine_bild_learn\\AI\\tensorflow\\catsdogs'\n",
    "train_dir = os.path.join(base_dir, 'train')\n",
    "validation_dir = os.path.join(base_dir, 'test')\n",
    "\n",
    "train_dir_cats = os.path.join(train_dir, 'Cat')\n",
    "train_dir_dogs = os.path.join(train_dir, 'Dog')\n",
    "\n",
    "\n",
    "validation_dir_cats = os.path.join(validation_dir, 'Cat')\n",
    "validation_dir_dogs = os.path.join(validation_dir, 'Dog')\n"
   ]
  },
  {
   "cell_type": "code",
   "execution_count": 3,
   "metadata": {},
   "outputs": [],
   "source": [
    "from tensorflow.keras.applications.resnet import ResNet50\n",
    "from tensorflow.keras.applications.resnet import ResNet101\n",
    "from tensorflow.keras.applications.inception_v3 import InceptionV3"
   ]
  },
  {
   "cell_type": "code",
   "execution_count": 4,
   "metadata": {},
   "outputs": [],
   "source": [
    "pre_trained_model = ResNet101(input_shape=(75, 75, 3),\n",
    "                                include_top=False,\n",
    "                                weights='imagenet')"
   ]
  },
  {
   "cell_type": "code",
   "execution_count": 5,
   "metadata": {},
   "outputs": [],
   "source": [
    "#pre_trained_model = ResNet50(input_shape=(150, 150, 3), include_top=False, weights='imagenet')\n",
    "#pre_trained_model = ResNet101(input_shape=(75, 75, 3), include_top=False, weights='imagenet')\n",
    "#pre_trained_model = InceptionV3(input_shape=(150, 150, 3), include_top=False, weights='imagenet')"
   ]
  },
  {
   "cell_type": "code",
   "execution_count": 6,
   "metadata": {},
   "outputs": [],
   "source": [
    "for layers in pre_trained_model.layers:\n",
    "    layers.trainable = False"
   ]
  },
  {
   "cell_type": "code",
   "execution_count": 7,
   "metadata": {},
   "outputs": [],
   "source": [
    "class tensor_callback(tf.keras.callbacks.Callback):\n",
    "    def on_epoch_end(self, epoch, logs={}):\n",
    "        if logs.get('accuracy') > 0.95:\n",
    "            print(\"\\nReached 95% accuracy so cancelling training!\")\n",
    "            self.model.stop_training = True"
   ]
  },
  {
   "cell_type": "code",
   "execution_count": 8,
   "metadata": {},
   "outputs": [
    {
     "name": "stderr",
     "output_type": "stream",
     "text": [
      "c:\\Users\\28968\\.conda\\envs\\mlflow\\lib\\site-packages\\keras\\optimizer_v2\\optimizer_v2.py:356: UserWarning: The `lr` argument is deprecated, use `learning_rate` instead.\n",
      "  \"The `lr` argument is deprecated, use `learning_rate` instead.\")\n"
     ]
    }
   ],
   "source": [
    "from tensorflow.keras.optimizers import Adam\n",
    "from tensorflow.keras import layers\n",
    "\n",
    "x = layers.Flatten()(pre_trained_model.output)\n",
    "\n",
    "x = layers.Dense(1024, activation='relu')(x)\n",
    "x = layers.Dropout(0.2)(x)\n",
    "x = layers.Dense(1, activation='sigmoid')(x)\n",
    "\n",
    "model = models.Model(pre_trained_model.input, x)\n",
    "model.compile(optimizer=Adam(lr=0.0001), loss='binary_crossentropy', metrics=['accuracy'])"
   ]
  },
  {
   "cell_type": "code",
   "execution_count": 9,
   "metadata": {},
   "outputs": [
    {
     "name": "stdout",
     "output_type": "stream",
     "text": [
      "Found 1600 images belonging to 2 classes.\n",
      "Found 400 images belonging to 2 classes.\n"
     ]
    }
   ],
   "source": [
    "train_datagen = ImageDataGenerator(rescale=1./255,\n",
    "                                      rotation_range=40,\n",
    "                                      width_shift_range=0.2,\n",
    "                                      height_shift_range=0.2,\n",
    "                                      shear_range=0.2,\n",
    "                                      horizontal_flip=True,\n",
    "                                      fill_mode='nearest')\n",
    "\n",
    "test_datagen = ImageDataGenerator(rescale=1./255)\n",
    "\n",
    "train_generator = train_datagen.flow_from_directory(train_dir,   \n",
    "                                                    target_size=(75, 75),\n",
    "                                                    batch_size=20,\n",
    "                                                    class_mode='binary')\n",
    "\n",
    "validation_generator = test_datagen.flow_from_directory(validation_dir,\n",
    "                                                        target_size=(75, 75),\n",
    "                                                        batch_size=20,\n",
    "                                                        class_mode='binary')\n",
    "\n",
    "\n",
    "\n",
    "\n",
    "\n",
    "\n"
   ]
  },
  {
   "cell_type": "code",
   "execution_count": 12,
   "metadata": {},
   "outputs": [
    {
     "name": "stdout",
     "output_type": "stream",
     "text": [
      "Epoch 1/20\n",
      "8/8 - 1s - loss: 0.7198 - accuracy: 0.5500 - val_loss: 0.7095 - val_accuracy: 0.5250\n",
      "Epoch 2/20\n",
      "8/8 - 1s - loss: 0.7667 - accuracy: 0.4938 - val_loss: 0.6879 - val_accuracy: 0.5450\n",
      "Epoch 3/20\n",
      "8/8 - 1s - loss: 0.7423 - accuracy: 0.5625 - val_loss: 0.7405 - val_accuracy: 0.4975\n",
      "Epoch 4/20\n",
      "8/8 - 1s - loss: 0.8427 - accuracy: 0.4563 - val_loss: 0.7803 - val_accuracy: 0.5000\n",
      "Epoch 5/20\n",
      "8/8 - 1s - loss: 0.7987 - accuracy: 0.5000 - val_loss: 0.7022 - val_accuracy: 0.5100\n",
      "Epoch 6/20\n",
      "8/8 - 1s - loss: 0.6862 - accuracy: 0.5625 - val_loss: 0.6867 - val_accuracy: 0.5400\n",
      "Epoch 7/20\n",
      "8/8 - 1s - loss: 0.6782 - accuracy: 0.5875 - val_loss: 0.6950 - val_accuracy: 0.5125\n",
      "Epoch 8/20\n",
      "8/8 - 1s - loss: 0.7349 - accuracy: 0.4500 - val_loss: 0.7003 - val_accuracy: 0.5125\n",
      "Epoch 9/20\n",
      "8/8 - 1s - loss: 0.7367 - accuracy: 0.5437 - val_loss: 0.7155 - val_accuracy: 0.5000\n",
      "Epoch 10/20\n",
      "8/8 - 1s - loss: 0.7417 - accuracy: 0.5000 - val_loss: 0.6810 - val_accuracy: 0.5525\n",
      "Epoch 11/20\n",
      "8/8 - 1s - loss: 0.6983 - accuracy: 0.5688 - val_loss: 0.6952 - val_accuracy: 0.5175\n",
      "Epoch 12/20\n",
      "8/8 - 1s - loss: 0.7174 - accuracy: 0.5500 - val_loss: 0.7107 - val_accuracy: 0.5025\n",
      "Epoch 13/20\n",
      "8/8 - 1s - loss: 0.6751 - accuracy: 0.6062 - val_loss: 0.6843 - val_accuracy: 0.5300\n",
      "Epoch 14/20\n",
      "8/8 - 1s - loss: 0.6937 - accuracy: 0.5750 - val_loss: 0.6660 - val_accuracy: 0.6000\n",
      "Epoch 15/20\n",
      "8/8 - 1s - loss: 0.6906 - accuracy: 0.5750 - val_loss: 0.6704 - val_accuracy: 0.6025\n",
      "Epoch 16/20\n",
      "8/8 - 1s - loss: 0.6994 - accuracy: 0.5375 - val_loss: 0.6778 - val_accuracy: 0.5575\n",
      "Epoch 17/20\n",
      "8/8 - 1s - loss: 0.7171 - accuracy: 0.5063 - val_loss: 0.6849 - val_accuracy: 0.5350\n",
      "Epoch 18/20\n",
      "8/8 - 1s - loss: 0.7118 - accuracy: 0.5312 - val_loss: 0.6612 - val_accuracy: 0.6075\n",
      "Epoch 19/20\n",
      "8/8 - 1s - loss: 0.6662 - accuracy: 0.6187 - val_loss: 0.7032 - val_accuracy: 0.5150\n",
      "Epoch 20/20\n",
      "8/8 - 1s - loss: 0.7345 - accuracy: 0.5437 - val_loss: 0.7780 - val_accuracy: 0.5000\n"
     ]
    }
   ],
   "source": [
    "callbacks = tensor_callback()\n",
    "history = model.fit(train_generator,\n",
    "                                validation_data=validation_generator,\n",
    "                                steps_per_epoch=8,\n",
    "                                epochs=20,\n",
    "                                verbose=2,\n",
    "                                callbacks=[callbacks])"
   ]
  },
  {
   "cell_type": "code",
   "execution_count": 13,
   "metadata": {},
   "outputs": [
    {
     "data": {
      "image/png": "[encoded data removed]",
      "text/plain": [
       "<Figure size 432x288 with 1 Axes>"
      ]
     },
     "metadata": {
      "needs_background": "light"
     },
     "output_type": "display_data"
    },
    {
     "data": {
      "image/png": "[encoded data removed]",
      "text/plain": [
       "<Figure size 432x288 with 1 Axes>"
      ]
     },
     "metadata": {
      "needs_background": "light"
     },
     "output_type": "display_data"
    }
   ],
   "source": [
    "import matplotlib.pyplot as plt\n",
    "acc = history.history['accuracy']\n",
    "val_acc = history.history['val_accuracy']\n",
    "loss=history.history['loss']\n",
    "val_loss=history.history['val_loss']\n",
    "\n",
    "epochs=range(len(acc))\n",
    "plt.plot(epochs, acc, 'r', label='Training accuracy')\n",
    "plt.plot(epochs, val_acc, 'b', label='validation accuracy')\n",
    "plt.title('Training and validation accuracy')\n",
    "plt.legend(loc=0)\n",
    "plt.figure()\n",
    "\n",
    "\n",
    "plt.plot(epochs, loss, 'r', label='Training loss')\n",
    "plt.plot(epochs, val_loss, 'b', label='validation loss')\n",
    "plt.title('Training and validation loss')\n",
    "plt.legend(loc=0)\n",
    "\n",
    "plt.show()\n"
   ]
  },
  {
   "cell_type": "code",
   "execution_count": null,
   "metadata": {},
   "outputs": [],
   "source": []
  },
  {
   "cell_type": "code",
   "execution_count": null,
   "metadata": {},
   "outputs": [],
   "source": []
  },
  {
   "cell_type": "code",
   "execution_count": null,
   "metadata": {},
   "outputs": [],
   "source": []
  },
  {
   "cell_type": "code",
   "execution_count": null,
   "metadata": {},
   "outputs": [],
   "source": []
  },
  {
   "cell_type": "code",
   "execution_count": null,
   "metadata": {},
   "outputs": [],
   "source": []
  },
  {
   "cell_type": "code",
   "execution_count": null,
   "metadata": {},
   "outputs": [],
   "source": []
  },
  {
   "cell_type": "code",
   "execution_count": null,
   "metadata": {},
   "outputs": [],
   "source": []
  },
  {
   "cell_type": "code",
   "execution_count": null,
   "metadata": {},
   "outputs": [],
   "source": []
  },
  {
   "cell_type": "code",
   "execution_count": null,
   "metadata": {},
   "outputs": [],
   "source": []
  },
  {
   "cell_type": "code",
   "execution_count": null,
   "metadata": {},
   "outputs": [],
   "source": []
  },
  {
   "cell_type": "code",
   "execution_count": null,
   "metadata": {},
   "outputs": [],
   "source": []
  },
  {
   "cell_type": "code",
   "execution_count": null,
   "metadata": {},
   "outputs": [],
   "source": []
  },
  {
   "cell_type": "code",
   "execution_count": null,
   "metadata": {},
   "outputs": [],
   "source": []
  },
  {
   "cell_type": "code",
   "execution_count": null,
   "metadata": {},
   "outputs": [],
   "source": []
  },
  {
   "cell_type": "code",
   "execution_count": null,
   "metadata": {},
   "outputs": [],
   "source": []
  },
  {
   "cell_type": "code",
   "execution_count": null,
   "metadata": {},
   "outputs": [],
   "source": []
  },
  {
   "cell_type": "code",
   "execution_count": null,
   "metadata": {},
   "outputs": [],
   "source": []
  },
  {
   "cell_type": "code",
   "execution_count": null,
   "metadata": {},
   "outputs": [],
   "source": []
  }
 ],
 "metadata": {
  "kernelspec": {
   "display_name": "lian1",
   "language": "python",
   "name": "python3"
  },
  "language_info": {
   "codemirror_mode": {
    "name": "ipython",
    "version": 3
   },
   "file_extension": ".py",
   "mimetype": "text/x-python",
   "name": "python",
   "nbconvert_exporter": "python",
   "pygments_lexer": "ipython3",
   "version": "3.6.13"
  },
  "orig_nbformat": 4
 },
 "nbformat": 4,
 "nbformat_minor": 2
}
