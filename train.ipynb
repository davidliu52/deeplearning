{
 "cells": [
  {
   "cell_type": "code",
   "execution_count": 1,
   "metadata": {},
   "outputs": [
    {
     "name": "stdout",
     "output_type": "stream",
     "text": [
      "Optimized x: -1.110510503581112\n"
     ]
    }
   ],
   "source": [
    "import numpy as np\n",
    "\n",
    "# Define the function to be optimized\n",
    "def function(x):\n",
    "    return x**2 + 5*np.sin(x)\n",
    "\n",
    "# Define the derivative of the function\n",
    "def derivative(x):\n",
    "    return 2*x + 5*np.cos(x)\n",
    "\n",
    "# Define the gradient descent algorithm\n",
    "def gradient_descent(learning_rate, initial_x, num_iterations):\n",
    "    x = initial_x\n",
    "    for i in range(num_iterations):\n",
    "        gradient = derivative(x)\n",
    "        x -= learning_rate * gradient\n",
    "    return x\n",
    "\n",
    "# Set the initial parameters\n",
    "learning_rate = 0.1\n",
    "initial_x = 3\n",
    "num_iterations = 100\n",
    "\n",
    "# Run the gradient descent algorithm\n",
    "optimized_x = gradient_descent(learning_rate, initial_x, num_iterations)\n",
    "\n",
    "# Print the optimized value\n",
    "print(\"Optimized x:\", optimized_x)\n"
   ]
  },
  {
   "cell_type": "code",
   "execution_count": 2,
   "metadata": {},
   "outputs": [
    {
     "name": "stdout",
     "output_type": "stream",
     "text": [
      "[1 0 0 1 2 1 2 2 1 0 0 0 2 1 0 1 1 1 1 0 0 1 0 0 2 0 1 2 2 1 2 0 1 1 1 0 2\n",
      " 2 0 1 1 2 2 1 2 0 0 1 0 0 2 0 1 1 1 1 1 0 1 0 2 1 1 2 2 2 1 0 2 2 1 1 0 2\n",
      " 0 1 2 1 0 0 0 1 0 1 2 0 2 0 0 2 2 2 1 0 0 2 0 1 1 0]\n"
     ]
    }
   ],
   "source": [
    "from sklearn.mixture import GaussianMixture\n",
    "import numpy as np\n",
    "# Import the necessary libraries\n",
    "\n",
    "# Prepare your data\n",
    "data = np.random.randn(100, 2)  # Example data with 100 samples and 2 features\n",
    "\n",
    "# Create an instance of the GMM model\n",
    "gmm = GaussianMixture(n_components=3)  # Create a GMM model with 3 components\n",
    "\n",
    "# Fit the model to your data\n",
    "gmm.fit(data)\n",
    "\n",
    "# Use the trained model to make predictions\n",
    "labels = gmm.predict(data)  # Predict the labels for the data\n",
    "\n",
    "# Print the predicted labels\n",
    "print(labels)\n"
   ]
  },
  {
   "cell_type": "code",
   "execution_count": null,
   "metadata": {},
   "outputs": [],
   "source": []
  },
  {
   "cell_type": "code",
   "execution_count": null,
   "metadata": {},
   "outputs": [],
   "source": []
  },
  {
   "cell_type": "code",
   "execution_count": null,
   "metadata": {},
   "outputs": [],
   "source": []
  }
 ],
 "metadata": {
  "kernelspec": {
   "display_name": "lian1",
   "language": "python",
   "name": "python3"
  },
  "language_info": {
   "codemirror_mode": {
    "name": "ipython",
    "version": 3
   },
   "file_extension": ".py",
   "mimetype": "text/x-python",
   "name": "python",
   "nbconvert_exporter": "python",
   "pygments_lexer": "ipython3",
   "version": "3.7.16"
  }
 },
 "nbformat": 4,
 "nbformat_minor": 2
}
