{
 "cells": [
  {
   "cell_type": "markdown",
   "metadata": {},
   "source": [
    "# General Full-Factorial Design"
   ]
  },
  {
   "cell_type": "code",
   "execution_count": 42,
   "metadata": {},
   "outputs": [
    {
     "name": "stdout",
     "output_type": "stream",
     "text": [
      "General Full-Factorial Design:\n",
      "(81, 4)\n",
      "[[ 36.  240.    0.8  20. ]\n",
      " [ 36.  240.    0.8  25. ]\n",
      " [ 36.  240.    0.8  30. ]\n",
      " [ 36.  240.    1.   20. ]\n",
      " [ 36.  240.    1.   25. ]\n",
      " [ 36.  240.    1.   30. ]\n",
      " [ 36.  240.    1.2  20. ]\n",
      " [ 36.  240.    1.2  25. ]\n",
      " [ 36.  240.    1.2  30. ]\n",
      " [ 36.  300.    0.8  20. ]]\n"
     ]
    }
   ],
   "source": [
    "import numpy as np\n",
    "from itertools import product\n",
    "\n",
    "# Define the levels for each factor\n",
    "levels = [0.8, 1, 1.2]  # Assuming the levels are 1, 2, 3 for each factor\n",
    "default_value=[45, 300, 1, 25]\n",
    "# Generate a General Full-Factorial Design\n",
    "full_factorial_design = list(product(levels, repeat=4))\n",
    "\n",
    "# Convert to NumPy array for convenience\n",
    "design_matrix_general = np.array(full_factorial_design)\n",
    "result=default_value*design_matrix_general\n",
    "print(\"General Full-Factorial Design:\")\n",
    "print(design_matrix_general.shape)\n",
    "print(result[:10])\n"
   ]
  },
  {
   "cell_type": "markdown",
   "metadata": {},
   "source": [
    "#  2-Level Full-Factorial Design:"
   ]
  },
  {
   "cell_type": "code",
   "execution_count": null,
   "metadata": {},
   "outputs": [],
   "source": []
  },
  {
   "cell_type": "markdown",
   "metadata": {},
   "source": [
    "# Generalized Subset Design"
   ]
  },
  {
   "cell_type": "code",
   "execution_count": 47,
   "metadata": {},
   "outputs": [
    {
     "data": {
      "text/plain": [
       "[54.0, 45, 36.0]"
      ]
     },
     "execution_count": 47,
     "metadata": {},
     "output_type": "execute_result"
    }
   ],
   "source": [
    "default_value=[45, 300, 1, 25]\n",
    "value_heigher = [i*0.8 for i in default_value]\n",
    "value_lower = [i*1.2 for i in default_value]\n",
    "factor=[]\n",
    "for i in range(len(default_value)):\n",
    "    factor.append([value_lower[i],default_value[i],value_heigher[i]])\n",
    "\n",
    "factor0=factor[0]\n",
    "factor1=factor[1]\n",
    "factor2=factor[2]\n",
    "factor3=factor[3]\n",
    "factor0\n"
   ]
  },
  {
   "cell_type": "code",
   "execution_count": 96,
   "metadata": {},
   "outputs": [
    {
     "name": "stdout",
     "output_type": "stream",
     "text": [
      "41\n"
     ]
    },
    {
     "data": {
      "text/plain": [
       "[[54.0, 360.0, 1.2, 30.0],\n",
       " [54.0, 360.0, 1.2, 20.0],\n",
       " [54.0, 360.0, 0.8, 30.0],\n",
       " [54.0, 360.0, 0.8, 20.0],\n",
       " [54.0, 240.0, 1.2, 30.0],\n",
       " [54.0, 240.0, 1.2, 20.0],\n",
       " [54.0, 240.0, 0.8, 30.0],\n",
       " [54.0, 240.0, 0.8, 20.0],\n",
       " [36.0, 360.0, 1.2, 30.0],\n",
       " [36.0, 360.0, 1.2, 20.0]]"
      ]
     },
     "execution_count": 96,
     "metadata": {},
     "output_type": "execute_result"
    }
   ],
   "source": [
    "import pyDOE2\n",
    "\n",
    "levels = [3, 3, 3, 3]\n",
    "reduction = 2\n",
    "result = pyDOE2.gsd(levels, reduction)\n",
    "result= result.data.tolist()\n",
    "print(len(result))\n",
    "experiment=[]\n",
    "for i in result:\n",
    "  list=[factor0[i[0]],factor1[i[1]],factor2[i[2]],factor3[i[3]]]\n",
    "  experiment.append(list)\n",
    "\n",
    "experiment[:10]"
   ]
  },
  {
   "cell_type": "markdown",
   "metadata": {},
   "source": [
    "# Box-Behnken (bbdesign)"
   ]
  },
  {
   "cell_type": "code",
   "execution_count": 95,
   "metadata": {},
   "outputs": [
    {
     "name": "stdout",
     "output_type": "stream",
     "text": [
      "(27, 4)\n",
      "Scaled Box-Behnken Design:\n",
      "[[ 30.  240.    1.   25. ]\n",
      " [ 54.  240.    1.   25. ]\n",
      " [ 30.  360.    1.   25. ]\n",
      " [ 54.  360.    1.   25. ]\n",
      " [ 30.  300.    0.8  25. ]\n",
      " [ 54.  300.    0.8  25. ]\n",
      " [ 30.  300.    1.2  25. ]\n",
      " [ 54.  300.    1.2  25. ]\n",
      " [ 30.  300.    1.   20. ]\n",
      " [ 54.  300.    1.   20. ]\n",
      " [ 30.  300.    1.   30. ]\n",
      " [ 54.  300.    1.   30. ]\n",
      " [ 42.  240.    0.8  25. ]\n",
      " [ 42.  360.    0.8  25. ]\n",
      " [ 42.  240.    1.2  25. ]\n",
      " [ 42.  360.    1.2  25. ]\n",
      " [ 42.  240.    1.   20. ]\n",
      " [ 42.  360.    1.   20. ]\n",
      " [ 42.  240.    1.   30. ]\n",
      " [ 42.  360.    1.   30. ]\n",
      " [ 42.  300.    0.8  20. ]\n",
      " [ 42.  300.    1.2  20. ]\n",
      " [ 42.  300.    0.8  30. ]\n",
      " [ 42.  300.    1.2  30. ]\n",
      " [ 42.  300.    1.   25. ]\n",
      " [ 42.  300.    1.   25. ]\n",
      " [ 42.  300.    1.   25. ]]\n"
     ]
    }
   ],
   "source": [
    "from pyDOE2 import bbdesign\n",
    "import numpy as np\n",
    "\n",
    "# Define factor ranges\n",
    "factor_ranges = [\n",
    "    (30, 54),   # Factor 0\n",
    "    (240, 360),  # Factor 1\n",
    "    (0.8, 1.2),  # Factor 2\n",
    "    (20, 30)     # Factor 3\n",
    "]\n",
    "\n",
    "# Generate Box-Behnken Design for 4 factors with center points\n",
    "result = bbdesign(4, center=3)\n",
    "print(result.shape)\n",
    "# Scale and shift the values in the design matrix to match factor ranges\n",
    "scaled_result = np.zeros_like(result)\n",
    "\n",
    "for i, (lower, upper) in enumerate(factor_ranges):\n",
    "    scaled_result[:, i] = lower + (result[:, i] + 1) * 0.5 * (upper - lower)\n",
    "\n",
    "# Print the resulting design matrix\n",
    "print(\"Scaled Box-Behnken Design:\")\n",
    "print(scaled_result)\n"
   ]
  },
  {
   "cell_type": "markdown",
   "metadata": {},
   "source": [
    "# Latin-Hypercube"
   ]
  },
  {
   "cell_type": "code",
   "execution_count": 102,
   "metadata": {},
   "outputs": [
    {
     "data": {
      "text/plain": [
       "array([[ 32.9, 298.1,   0.7,  42.5],\n",
       "       [ 63.9, 347.8,   1.1,  23.4],\n",
       "       [ 39.2, 221.6,   0.9,  28.8],\n",
       "       [ 30.2, 241.7,   1.4,  32.9],\n",
       "       [ 42.7, 317.5,   0.6,  21. ],\n",
       "       [ 49.7, 230.1,   0.8,  26.1],\n",
       "       [ 46.5, 274.6,   1. ,  21.9],\n",
       "       [ 49.5, 263.9,   1. ,  25.7],\n",
       "       [ 47.3, 331. ,   1.1,  27.7],\n",
       "       [ 34.9, 203.2,   1.1,  31.9],\n",
       "       [ 38.1, 457.3,   0.8,  19.8],\n",
       "       [ 50.6, 303.5,   1. ,  24.1],\n",
       "       [ 46.4, 332.5,   1.3,  30. ],\n",
       "       [ 52.6, 285.2,   1.6,  29.2],\n",
       "       [ 44.9, 284.4,   0.8,  26.7],\n",
       "       [ 47.4, 250.6,   1.2,  31. ],\n",
       "       [ 43.4, 340.2,   1.1,  25.8],\n",
       "       [ 40.1, 326.6,   0.9,  25.1],\n",
       "       [ 40.5, 418.5,   0.8,  26.9],\n",
       "       [ 58. , 307.1,   1.1,  28.5],\n",
       "       [ 59.9, 268.5,   1. ,  22.2],\n",
       "       [ 48. , 211.1,   0.9,  27.5],\n",
       "       [ 61.5, 380.1,   1.2,  17.2],\n",
       "       [ 45.4, 311.1,   0.7,  21.3],\n",
       "       [ 52.5, 290.2,   1.2,  24.9],\n",
       "       [ 51.2, 366.2,   1. ,  25.4],\n",
       "       [ 39. , 400.2,   1.2,  17.8],\n",
       "       [ 23.9, 256.6,   1.2,  29.3],\n",
       "       [ 41.4, 275.7,   1.2,  18.4],\n",
       "       [ 56.9, 180.9,   1.1,  35.1],\n",
       "       [ 45.5, 344. ,   1.2,  18.7],\n",
       "       [ 56.5, 324.6,   0.9,  22.9],\n",
       "       [ 48.6, 353.8,   1.3,  27.2],\n",
       "       [ 42.6, 296.4,   1.1,  20.8],\n",
       "       [ 48.8, 227.3,   0.8,  26.4],\n",
       "       [ 44.5, 238.4,   1. ,  16. ],\n",
       "       [ 41.2, 292.4,   1. ,  23.6],\n",
       "       [ 42.2, 360.9,   0.6,  27.9],\n",
       "       [ 34.4, 336.7,   0.8,  21.7],\n",
       "       [ 27.4, 268.7,   1. ,  22.4],\n",
       "       [ 53.9, 259.5,   1. ,  23.2],\n",
       "       [ 31.7, 355.3,   0.9,  30.6],\n",
       "       [ 36.1, 248.8,   0.8,  29.8],\n",
       "       [ 35.4, 319.2,   1.1,  10.2],\n",
       "       [ 54.1, 300.9,   0.9,  32.4],\n",
       "       [ 36.9, 392.1,   0.9,  24.6],\n",
       "       [ 55.5, 314.3,   1. ,  20.3],\n",
       "       [ 43.8, 374.8,   0.7,  23.7],\n",
       "       [ 51.5, 280.4,   0.9,  19.3],\n",
       "       [ 37.4, 174. ,   1.3,  24.5]])"
      ]
     },
     "execution_count": 102,
     "metadata": {},
     "output_type": "execute_result"
    }
   ],
   "source": [
    "from scipy.stats.distributions import norm\n",
    "from pyDOE2 import lhs\n",
    "import numpy as np\n",
    "\n",
    "# Number of factors\n",
    "num_factors = 4\n",
    "\n",
    "# Number of samples\n",
    "num_samples = 50\n",
    "\n",
    "# Specific means and standard deviations for each factor\n",
    "means = [45, 300, 1, 25]\n",
    "std_devs = [i*0.2 for i in means]\n",
    "# These parameters are used to transform the uniformly distributed samples generated by Latin Hypercube Sampling (LHS) into normal samples for each factor.\n",
    "#print(std_devs)\n",
    "# Generate Latin Hypercube Design\n",
    "design = lhs(num_factors, samples=num_samples)\n",
    "#print(design[:, 1])\n",
    "for i in range(num_factors):\n",
    "    design[:, i] = np.round(norm(loc=means[i], scale=std_devs[i]).ppf(design[:, i]), decimals=1)\n",
    "\n",
    "design"
   ]
  },
  {
   "cell_type": "code",
   "execution_count": 89,
   "metadata": {},
   "outputs": [
    {
     "name": "stdout",
     "output_type": "stream",
     "text": [
      "Transformed Design:\n",
      "[[1.05167799 1.92366238 2.76669012 3.94191763]\n",
      " [0.9161913  1.2891145  1.96839528 4.09157116]\n",
      " [0.88941843 1.86770839 4.31445526 4.33187453]\n",
      " [0.96899694 1.71026931 4.25646609 3.81026861]\n",
      " [1.10460192 2.12442382 3.33713412 3.68848088]\n",
      " [0.98478153 2.60297983 1.05760474 4.21252585]\n",
      " [0.8061875  3.08961764 2.70212392 4.05879592]\n",
      " [1.02344832 1.50246884 2.34086452 3.93097968]\n",
      " [1.16110014 2.36773044 3.21721547 3.58601068]\n",
      " [1.05572005 2.19843204 3.53865094 4.16842772]]\n"
     ]
    }
   ],
   "source": [
    "import numpy as np\n",
    "import matplotlib.pyplot as plt\n",
    "\n",
    "# Provided code\n",
    "design = lhs(4, samples=10)\n",
    "means = [1, 2, 3, 4]\n",
    "stdvs = [0.1, 0.5, 1, 0.25]\n",
    "\n",
    "for i in range(4):\n",
    "    design[:, i] = norm(loc=means[i], scale=stdvs[i]).ppf(design[:, i])\n",
    "\n",
    "# Print the resulting design\n",
    "print(\"Transformed Design:\")\n",
    "print(design)\n",
    "\n",
    "\n"
   ]
  }
 ],
 "metadata": {
  "kernelspec": {
   "display_name": "racontrol",
   "language": "python",
   "name": "python3"
  },
  "language_info": {
   "codemirror_mode": {
    "name": "ipython",
    "version": 3
   },
   "file_extension": ".py",
   "mimetype": "text/x-python",
   "name": "python",
   "nbconvert_exporter": "python",
   "pygments_lexer": "ipython3",
   "version": "3.7.16"
  }
 },
 "nbformat": 4,
 "nbformat_minor": 2
}
