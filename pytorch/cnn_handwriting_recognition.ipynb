{
 "cells": [
  {
   "cell_type": "markdown",
   "metadata": {},
   "source": [
    "### 构建卷积神经网络\n",
    "- 卷积网络中的输入和层与传统神经网络有些区别，需重新设计，训练模块基本一致"
   ]
  },
  {
   "cell_type": "code",
   "execution_count": 16,
   "metadata": {
    "collapsed": true
   },
   "outputs": [],
   "source": [
    "import torch\n",
    "import torch.nn as nn\n",
    "import torch.optim as optim\n",
    "import torch.nn.functional as F\n",
    "from torchvision import datasets,transforms \n",
    "import matplotlib.pyplot as plt\n",
    "import numpy as np\n",
    "%matplotlib inline"
   ]
  },
  {
   "cell_type": "markdown",
   "metadata": {},
   "source": [
    "### 首先读取数据\n",
    "- 分别构建训练集和测试集（验证集）\n",
    "- DataLoader来迭代取数据"
   ]
  },
  {
   "cell_type": "code",
   "execution_count": 17,
   "metadata": {
    "collapsed": true
   },
   "outputs": [],
   "source": [
    "# 定义超参数 \n",
    "input_size = 28  #图像的总尺寸28*28\n",
    "num_classes = 10  #标签的种类数\n",
    "num_epochs = 3  #训练的总循环周期\n",
    "batch_size = 64  #一个撮（批次）的大小，64张图片\n",
    "\n",
    "# 训练集\n",
    "train_dataset = datasets.MNIST(root='./data',  \n",
    "                            train=True,   \n",
    "                            transform=transforms.ToTensor(),  \n",
    "                            download=True) \n",
    "\n",
    "# 测试集\n",
    "test_dataset = datasets.MNIST(root='./data', \n",
    "                           train=False, \n",
    "                           transform=transforms.ToTensor())\n",
    "\n",
    "# 构建batch数据\n",
    "train_loader = torch.utils.data.DataLoader(dataset=train_dataset, \n",
    "                                           batch_size=batch_size, \n",
    "                                           shuffle=True)\n",
    "test_loader = torch.utils.data.DataLoader(dataset=test_dataset, \n",
    "                                           batch_size=batch_size, \n",
    "                                           shuffle=True)"
   ]
  },
  {
   "cell_type": "markdown",
   "metadata": {},
   "source": [
    "### 卷积网络模块构建\n",
    "- 一般卷积层，relu层，池化层可以写成一个套餐\n",
    "- 注意卷积最后结果还是一个特征图，需要把图转换成向量才能做分类或者回归任务"
   ]
  },
  {
   "cell_type": "code",
   "execution_count": 18,
   "metadata": {
    "collapsed": true
   },
   "outputs": [],
   "source": [
    "class CNN(nn.Module):\n",
    "    def __init__(self):\n",
    "        super(CNN, self).__init__()\n",
    "        self.conv1 = nn.Sequential(         # 输入大小 (1, 28, 28)\n",
    "            nn.Conv2d(\n",
    "                in_channels=1,              # 灰度图\n",
    "                out_channels=16,            # 要得到几多少个特征图\n",
    "                kernel_size=5,              # 卷积核大小\n",
    "                stride=1,                   # 步长\n",
    "                padding=2,                  # 如果希望卷积后大小跟原来一样，需要设置padding=(kernel_size-1)/2 if stride=1\n",
    "            ),                              # 输出的特征图为 (16, 28, 28)\n",
    "            nn.ReLU(),                      # relu层\n",
    "            nn.MaxPool2d(kernel_size=2),    # 进行池化操作（2x2 区域）, 输出结果为： (16, 14, 14)\n",
    "        )\n",
    "        self.conv2 = nn.Sequential(         # 下一个套餐的输入 (16, 14, 14)\n",
    "            nn.Conv2d(16, 32, 5, 1, 2),     # 输出 (32, 14, 14)\n",
    "            nn.ReLU(),                      # relu层\n",
    "            nn.MaxPool2d(2),                # 输出 (32, 7, 7)\n",
    "        )\n",
    "        self.out = nn.Linear(32 * 7 * 7, 10)   # 全连接层得到的结果\n",
    "\n",
    "    def forward(self, x):\n",
    "        x = self.conv1(x)\n",
    "        x = self.conv2(x)\n",
    "        x = x.view(x.size(0), -1)           # flatten操作，结果为：(batch_size, 32 * 7 * 7)\n",
    "        output = self.out(x)\n",
    "        return output"
   ]
  },
  {
   "cell_type": "markdown",
   "metadata": {},
   "source": [
    "### 准确率作为评估标准"
   ]
  },
  {
   "cell_type": "code",
   "execution_count": 19,
   "metadata": {
    "collapsed": true
   },
   "outputs": [],
   "source": [
    "def accuracy(predictions, labels):\n",
    "    pred = torch.max(predictions.data, 1)[1] \n",
    "    rights = pred.eq(labels.data.view_as(pred)).sum() \n",
    "    return rights, len(labels) "
   ]
  },
  {
   "cell_type": "markdown",
   "metadata": {},
   "source": [
    "### 训练网络模型"
   ]
  },
  {
   "cell_type": "code",
   "execution_count": 20,
   "metadata": {},
   "outputs": [
    {
     "name": "stdout",
     "output_type": "stream",
     "text": [
      "当前epoch: 0 [0/60000 (0%)]\t损失: 2.307440\t训练集准确率: 10.94%\t测试集正确率: 10.51%\n",
      "当前epoch: 0 [6400/60000 (11%)]\t损失: 0.330331\t训练集准确率: 76.27%\t测试集正确率: 92.04%\n",
      "当前epoch: 0 [12800/60000 (21%)]\t损失: 0.078402\t训练集准确率: 84.91%\t测试集正确率: 95.44%\n",
      "当前epoch: 0 [19200/60000 (32%)]\t损失: 0.119531\t训练集准确率: 88.41%\t测试集正确率: 96.65%\n",
      "当前epoch: 0 [25600/60000 (43%)]\t损失: 0.137682\t训练集准确率: 90.48%\t测试集正确率: 96.91%\n",
      "当前epoch: 0 [32000/60000 (53%)]\t损失: 0.047267\t训练集准确率: 91.75%\t测试集正确率: 97.54%\n",
      "当前epoch: 0 [38400/60000 (64%)]\t损失: 0.076874\t训练集准确率: 92.67%\t测试集正确率: 97.74%\n",
      "当前epoch: 0 [44800/60000 (75%)]\t损失: 0.107256\t训练集准确率: 93.34%\t测试集正确率: 97.71%\n",
      "当前epoch: 0 [51200/60000 (85%)]\t损失: 0.105154\t训练集准确率: 93.83%\t测试集正确率: 97.94%\n",
      "当前epoch: 0 [57600/60000 (96%)]\t损失: 0.048437\t训练集准确率: 94.26%\t测试集正确率: 98.34%\n",
      "当前epoch: 1 [0/60000 (0%)]\t损失: 0.023041\t训练集准确率: 100.00%\t测试集正确率: 98.34%\n",
      "当前epoch: 1 [6400/60000 (11%)]\t损失: 0.168977\t训练集准确率: 98.21%\t测试集正确率: 98.03%\n",
      "当前epoch: 1 [12800/60000 (21%)]\t损失: 0.083497\t训练集准确率: 98.19%\t测试集正确率: 98.38%\n",
      "当前epoch: 1 [19200/60000 (32%)]\t损失: 0.039917\t训练集准确率: 98.17%\t测试集正确率: 98.66%\n",
      "当前epoch: 1 [25600/60000 (43%)]\t损失: 0.072766\t训练集准确率: 98.16%\t测试集正确率: 98.57%\n",
      "当前epoch: 1 [32000/60000 (53%)]\t损失: 0.136621\t训练集准确率: 98.21%\t测试集正确率: 98.62%\n",
      "当前epoch: 1 [38400/60000 (64%)]\t损失: 0.082430\t训练集准确率: 98.23%\t测试集正确率: 98.51%\n",
      "当前epoch: 1 [44800/60000 (75%)]\t损失: 0.071500\t训练集准确率: 98.28%\t测试集正确率: 98.79%\n",
      "当前epoch: 1 [51200/60000 (85%)]\t损失: 0.021947\t训练集准确率: 98.34%\t测试集正确率: 98.78%\n",
      "当前epoch: 1 [57600/60000 (96%)]\t损失: 0.018655\t训练集准确率: 98.36%\t测试集正确率: 98.62%\n",
      "当前epoch: 2 [0/60000 (0%)]\t损失: 0.126004\t训练集准确率: 96.88%\t测试集正确率: 98.72%\n",
      "当前epoch: 2 [6400/60000 (11%)]\t损失: 0.080926\t训练集准确率: 98.79%\t测试集正确率: 98.85%\n",
      "当前epoch: 2 [12800/60000 (21%)]\t损失: 0.068020\t训练集准确率: 98.70%\t测试集正确率: 98.80%\n",
      "当前epoch: 2 [19200/60000 (32%)]\t损失: 0.006249\t训练集准确率: 98.75%\t测试集正确率: 98.83%\n",
      "当前epoch: 2 [25600/60000 (43%)]\t损失: 0.018114\t训练集准确率: 98.82%\t测试集正确率: 98.89%\n",
      "当前epoch: 2 [32000/60000 (53%)]\t损失: 0.023747\t训练集准确率: 98.81%\t测试集正确率: 98.76%\n",
      "当前epoch: 2 [38400/60000 (64%)]\t损失: 0.015472\t训练集准确率: 98.82%\t测试集正确率: 98.65%\n",
      "当前epoch: 2 [44800/60000 (75%)]\t损失: 0.021757\t训练集准确率: 98.81%\t测试集正确率: 98.90%\n",
      "当前epoch: 2 [51200/60000 (85%)]\t损失: 0.020481\t训练集准确率: 98.81%\t测试集正确率: 99.04%\n",
      "当前epoch: 2 [57600/60000 (96%)]\t损失: 0.025050\t训练集准确率: 98.79%\t测试集正确率: 98.86%\n"
     ]
    }
   ],
   "source": [
    "# 实例化\n",
    "net = CNN() \n",
    "#损失函数\n",
    "criterion = nn.CrossEntropyLoss() \n",
    "#优化器\n",
    "optimizer = optim.Adam(net.parameters(), lr=0.001) #定义优化器，普通的随机梯度下降算法\n",
    "train_finla_acc, test_final_acc = [], []\n",
    "#开始训练循环\n",
    "for epoch in range(num_epochs):\n",
    "    #当前epoch的结果保存下来\n",
    "    train_rights = [] \n",
    "    \n",
    "    for batch_idx, (data, target) in enumerate(train_loader):  #针对容器中的每一个批进行循环\n",
    "        net.train()                             \n",
    "        output = net(data) \n",
    "        loss = criterion(output, target) \n",
    "        optimizer.zero_grad() \n",
    "        loss.backward() \n",
    "        optimizer.step() \n",
    "        right = accuracy(output, target) \n",
    "        train_rights.append(right) \n",
    "\n",
    "    \n",
    "        if batch_idx % 100 == 0: \n",
    "            \n",
    "            net.eval() \n",
    "            val_rights = [] \n",
    "            \n",
    "            for (data, target) in test_loader:\n",
    "                output = net(data) \n",
    "                right = accuracy(output, target) \n",
    "                val_rights.append(right)\n",
    "                \n",
    "            #准确率计算\n",
    "            train_r = (sum([tup[0] for tup in train_rights]), sum([tup[1] for tup in train_rights]))\n",
    "            val_r = (sum([tup[0] for tup in val_rights]), sum([tup[1] for tup in val_rights]))\n",
    "            train_acc=train_r[0].numpy() / train_r[1]\n",
    "            val_acc=val_r[0].numpy() / val_r[1]\n",
    "            train_finla_acc.append(train_acc)\n",
    "            test_final_acc.append(val_acc)\n",
    "            print('当前epoch: {} [{}/{} ({:.0f}%)]\\t损失: {:.6f}\\t训练集准确率: {:.2f}%\\t测试集正确率: {:.2f}%'.format(\n",
    "                epoch, batch_idx * batch_size, len(train_loader.dataset),\n",
    "                100. * batch_idx / len(train_loader), \n",
    "                loss.data, \n",
    "                100. * train_acc, \n",
    "                100. * val_acc))"
   ]
  },
  {
   "cell_type": "code",
   "execution_count": 21,
   "metadata": {},
   "outputs": [
    {
     "data": {
      "text/plain": [
       "[0.1051,\n",
       " 0.9204,\n",
       " 0.9544,\n",
       " 0.9665,\n",
       " 0.9691,\n",
       " 0.9754,\n",
       " 0.9774,\n",
       " 0.9771,\n",
       " 0.9794,\n",
       " 0.9834,\n",
       " 0.9834,\n",
       " 0.9803,\n",
       " 0.9838,\n",
       " 0.9866,\n",
       " 0.9857,\n",
       " 0.9862,\n",
       " 0.9851,\n",
       " 0.9879,\n",
       " 0.9878,\n",
       " 0.9862,\n",
       " 0.9872,\n",
       " 0.9885,\n",
       " 0.988,\n",
       " 0.9883,\n",
       " 0.9889,\n",
       " 0.9876,\n",
       " 0.9865,\n",
       " 0.989,\n",
       " 0.9904,\n",
       " 0.9886]"
      ]
     },
     "execution_count": 21,
     "metadata": {},
     "output_type": "execute_result"
    }
   ],
   "source": [
    "test_final_acc"
   ]
  },
  {
   "cell_type": "code",
   "execution_count": 22,
   "metadata": {},
   "outputs": [
    {
     "data": {
      "image/png": "[encoded data removed]",
      "text/plain": [
       "<Figure size 640x480 with 1 Axes>"
      ]
     },
     "metadata": {},
     "output_type": "display_data"
    }
   ],
   "source": [
    "plt.plot(train_finla_acc, label='train')\n",
    "plt.plot(test_final_acc, label='test')\n",
    "plt.legend()\n",
    "plt.show()"
   ]
  },
  {
   "cell_type": "code",
   "execution_count": 25,
   "metadata": {
    "collapsed": true
   },
   "outputs": [
    {
     "data": {
      "image/png": "[encoded data removed]",
      "text/plain": [
       "<Figure size 1000x800 with 2 Axes>"
      ]
     },
     "metadata": {},
     "output_type": "display_data"
    }
   ],
   "source": [
    "#heatmap\n",
    "import seaborn as sns\n",
    "from sklearn.metrics import confusion_matrix\n",
    "net.eval()\n",
    "preds = []\n",
    "labels = []\n",
    "for (data, target) in test_loader:\n",
    "    output = net(data) \n",
    "    pred = torch.max(output.data, 1)[1] \n",
    "    preds.append(pred)\n",
    "    labels.append(target)\n",
    "preds = torch.cat(preds, dim=0)\n",
    "labels = torch.cat(labels, dim=0)\n",
    "cm = confusion_matrix(labels, preds)\n",
    "plt.figure(figsize=(10, 8))\n",
    "sns.heatmap(cm, annot=True, fmt='d', cmap='Blues')\n",
    "plt.xlabel('Predicted Label')\n",
    "plt.ylabel('True Label')\n",
    "plt.show()\n"
   ]
  },
  {
   "cell_type": "code",
   "execution_count": null,
   "metadata": {},
   "outputs": [],
   "source": []
  },
  {
   "cell_type": "code",
   "execution_count": null,
   "metadata": {},
   "outputs": [],
   "source": []
  },
  {
   "cell_type": "code",
   "execution_count": null,
   "metadata": {},
   "outputs": [],
   "source": []
  },
  {
   "cell_type": "code",
   "execution_count": null,
   "metadata": {},
   "outputs": [],
   "source": []
  },
  {
   "cell_type": "code",
   "execution_count": null,
   "metadata": {},
   "outputs": [],
   "source": []
  },
  {
   "cell_type": "code",
   "execution_count": null,
   "metadata": {},
   "outputs": [],
   "source": []
  }
 ],
 "metadata": {
  "kernelspec": {
   "display_name": "Python 3",
   "language": "python",
   "name": "python3"
  },
  "language_info": {
   "codemirror_mode": {
    "name": "ipython",
    "version": 3
   },
   "file_extension": ".py",
   "mimetype": "text/x-python",
   "name": "python",
   "nbconvert_exporter": "python",
   "pygments_lexer": "ipython3",
   "version": "3.10.12"
  }
 },
 "nbformat": 4,
 "nbformat_minor": 2
}
