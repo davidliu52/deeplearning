{
 "cells": [
  {
   "cell_type": "markdown",
   "metadata": {},
   "source": [
    "### Mnist分类任务：\n",
    "\n",
    "- 网络基本构建与训练方法，常用函数解析\n",
    "\n",
    "- torch.nn.functional模块\n",
    "\n",
    "- nn.Module模块\n"
   ]
  },
  {
   "cell_type": "markdown",
   "metadata": {},
   "source": [
    "### 读取Mnist数据集\n",
    "- 会自动进行下载"
   ]
  },
  {
   "cell_type": "code",
   "execution_count": 4,
   "metadata": {
    "collapsed": true
   },
   "outputs": [],
   "source": [
    "%matplotlib inline"
   ]
  },
  {
   "cell_type": "code",
   "execution_count": 5,
   "metadata": {},
   "outputs": [],
   "source": [
    "from pathlib import Path\n",
    "import requests\n",
    "PATH_file =Path( r'D:\\studydata\\machine_bild_learn\\AI\\资料\\缺陷检测章节资料\\PyTorch基础\\2-神经网络实战分类与回归任务\\神经网络实战分类与回归任务\\data\\mnist\\mnist.pkl.gz')\n"
   ]
  },
  {
   "cell_type": "code",
   "execution_count": 6,
   "metadata": {
    "collapsed": true
   },
   "outputs": [],
   "source": [
    "import pickle\n",
    "import gzip\n",
    "\n",
    "with gzip.open((PATH_file).as_posix(), \"rb\") as f:\n",
    "        ((x_train, y_train), (x_valid, y_valid), _) = pickle.load(f, encoding=\"latin-1\")"
   ]
  },
  {
   "cell_type": "code",
   "execution_count": 7,
   "metadata": {},
   "outputs": [
    {
     "name": "stdout",
     "output_type": "stream",
     "text": [
      "Tensor Flow Version: 2.13.0\n"
     ]
    }
   ],
   "source": [
    "import tensorflow as tf\n",
    "print(f\"Tensor Flow Version: {tf.__version__}\")\n",
    "from tensorflow import keras\n",
    "from tensorflow.keras import layers,models"
   ]
  },
  {
   "cell_type": "markdown",
   "metadata": {},
   "source": [
    "784是mnist数据集每个样本的像素点个数"
   ]
  },
  {
   "cell_type": "code",
   "execution_count": 8,
   "metadata": {},
   "outputs": [
    {
     "name": "stdout",
     "output_type": "stream",
     "text": [
      "(50000, 784)\n"
     ]
    },
    {
     "data": {
      "image/png": "[encoded data removed]",
      "text/plain": [
       "<Figure size 640x480 with 1 Axes>"
      ]
     },
     "metadata": {},
     "output_type": "display_data"
    }
   ],
   "source": [
    "from matplotlib import pyplot\n",
    "import numpy as np\n",
    "\n",
    "pyplot.imshow(x_train[0].reshape((28, 28)), cmap=\"gray\")\n",
    "print(x_train.shape)"
   ]
  },
  {
   "cell_type": "markdown",
   "metadata": {},
   "source": [
    "<img src=\"./img/4.png\" alt=\"FAO\" width=\"790\">"
   ]
  },
  {
   "cell_type": "markdown",
   "metadata": {},
   "source": [
    "<img src=\"./img/5.png\" alt=\"FAO\" width=\"790\">"
   ]
  },
  {
   "cell_type": "markdown",
   "metadata": {},
   "source": [
    "注意数据需转换成tensor才能参与后续建模训练\n"
   ]
  },
  {
   "cell_type": "code",
   "execution_count": 9,
   "metadata": {},
   "outputs": [
    {
     "name": "stdout",
     "output_type": "stream",
     "text": [
      "tensor([[0., 0., 0.,  ..., 0., 0., 0.],\n",
      "        [0., 0., 0.,  ..., 0., 0., 0.],\n",
      "        [0., 0., 0.,  ..., 0., 0., 0.],\n",
      "        ...,\n",
      "        [0., 0., 0.,  ..., 0., 0., 0.],\n",
      "        [0., 0., 0.,  ..., 0., 0., 0.],\n",
      "        [0., 0., 0.,  ..., 0., 0., 0.]]) tensor([5, 0, 4,  ..., 8, 4, 8])\n",
      "torch.Size([50000, 784])\n",
      "tensor(0) tensor(9)\n"
     ]
    }
   ],
   "source": [
    "import torch\n",
    "\n",
    "x_train, y_train, x_valid, y_valid = map(\n",
    "    torch.tensor, (x_train, y_train, x_valid, y_valid)\n",
    ")\n",
    "n, c = x_train.shape\n",
    "x_train, x_train.shape, y_train.min(), y_train.max()\n",
    "print(x_train, y_train)\n",
    "print(x_train.shape)\n",
    "print(y_train.min(), y_train.max())"
   ]
  },
  {
   "cell_type": "markdown",
   "metadata": {},
   "source": [
    "### torch.nn.functional 很多层和函数在这里都会见到\n",
    "\n",
    "torch.nn.functional中有很多功能，后续会常用的。那什么时候使用nn.Module，什么时候使用nn.functional呢？一般情况下，如果模型有可学习的参数，最好用nn.Module，其他情况nn.functional相对更简单一些"
   ]
  },
  {
   "cell_type": "code",
   "execution_count": 10,
   "metadata": {
    "collapsed": true
   },
   "outputs": [],
   "source": [
    "import torch.nn.functional as F\n",
    "\n",
    "loss_func = F.cross_entropy\n",
    "\n",
    "def model(xb):\n",
    "    return xb.mm(weights) + bias"
   ]
  },
  {
   "cell_type": "code",
   "execution_count": 11,
   "metadata": {},
   "outputs": [
    {
     "name": "stdout",
     "output_type": "stream",
     "text": [
      "tensor(10.6558, grad_fn=<NllLossBackward0>)\n"
     ]
    }
   ],
   "source": [
    "bs = 64\n",
    "xb = x_train[0:bs]  # a mini-batch from x\n",
    "yb = y_train[0:bs]\n",
    "weights = torch.randn([784, 10], dtype = torch.float,  requires_grad = True) \n",
    "bs = 64\n",
    "bias = torch.zeros(10, requires_grad=True)\n",
    "\n",
    "print(loss_func(model(xb), yb))"
   ]
  },
  {
   "cell_type": "markdown",
   "metadata": {},
   "source": [
    "### 创建一个model来更简化代码"
   ]
  },
  {
   "cell_type": "markdown",
   "metadata": {},
   "source": [
    "- 必须继承nn.Module且在其构造函数中需调用nn.Module的构造函数\n",
    "- 无需写反向传播函数，nn.Module能够利用autograd自动实现反向传播\n",
    "- Module中的可学习参数可以通过named_parameters()或者parameters()返回迭代器"
   ]
  },
  {
   "cell_type": "code",
   "execution_count": 12,
   "metadata": {
    "collapsed": true
   },
   "outputs": [],
   "source": [
    "from torch import nn\n",
    "\n",
    "class Mnist_NN(nn.Module):\n",
    "    def __init__(self):\n",
    "        super().__init__()\n",
    "        self.hidden1 = nn.Linear(784, 128)\n",
    "        self.hidden2 = nn.Linear(128, 256)\n",
    "        self.out  = nn.Linear(256, 10)\n",
    "\n",
    "    def forward(self, x):\n",
    "        x = F.relu(self.hidden1(x))\n",
    "        x = F.relu(self.hidden2(x))\n",
    "        x = self.out(x)\n",
    "        return x\n",
    "        "
   ]
  },
  {
   "cell_type": "code",
   "execution_count": 13,
   "metadata": {},
   "outputs": [
    {
     "name": "stdout",
     "output_type": "stream",
     "text": [
      "Mnist_NN(\n",
      "  (hidden1): Linear(in_features=784, out_features=128, bias=True)\n",
      "  (hidden2): Linear(in_features=128, out_features=256, bias=True)\n",
      "  (out): Linear(in_features=256, out_features=10, bias=True)\n",
      ")\n"
     ]
    }
   ],
   "source": [
    "net = Mnist_NN()\n",
    "print(net)\n"
   ]
  },
  {
   "cell_type": "markdown",
   "metadata": {},
   "source": [
    "可以打印我们定义好名字里的权重和偏置项"
   ]
  },
  {
   "cell_type": "code",
   "execution_count": 14,
   "metadata": {},
   "outputs": [
    {
     "name": "stdout",
     "output_type": "stream",
     "text": [
      "hidden1.weight Parameter containing:\n",
      "tensor([[ 0.0141,  0.0336, -0.0302,  ..., -0.0040,  0.0035,  0.0162],\n",
      "        [ 0.0156,  0.0322, -0.0043,  ..., -0.0258,  0.0105, -0.0295],\n",
      "        [ 0.0270,  0.0140,  0.0251,  ..., -0.0003, -0.0130,  0.0099],\n",
      "        ...,\n",
      "        [ 0.0311, -0.0210,  0.0095,  ...,  0.0249,  0.0006, -0.0175],\n",
      "        [-0.0173, -0.0103, -0.0009,  ..., -0.0255,  0.0068, -0.0351],\n",
      "        [ 0.0249,  0.0070, -0.0012,  ..., -0.0198,  0.0255,  0.0076]],\n",
      "       requires_grad=True) torch.Size([128, 784])\n",
      "hidden1.bias Parameter containing:\n",
      "tensor([-0.0250,  0.0261, -0.0033,  0.0120,  0.0054,  0.0257,  0.0139,  0.0039,\n",
      "         0.0341,  0.0046,  0.0030, -0.0227, -0.0068, -0.0064, -0.0169, -0.0293,\n",
      "        -0.0194,  0.0091, -0.0089,  0.0271,  0.0341,  0.0342,  0.0017, -0.0271,\n",
      "         0.0344,  0.0003,  0.0098,  0.0205,  0.0186,  0.0024, -0.0205, -0.0125,\n",
      "        -0.0058, -0.0022,  0.0229,  0.0258, -0.0048, -0.0225,  0.0263, -0.0046,\n",
      "        -0.0238,  0.0041,  0.0010, -0.0110, -0.0241, -0.0311,  0.0185,  0.0306,\n",
      "         0.0084,  0.0166,  0.0148,  0.0019, -0.0099,  0.0141, -0.0323,  0.0347,\n",
      "         0.0078,  0.0096, -0.0250,  0.0323, -0.0185, -0.0062,  0.0160,  0.0072,\n",
      "        -0.0185,  0.0240, -0.0059, -0.0329, -0.0133, -0.0160,  0.0212,  0.0357,\n",
      "         0.0059,  0.0090,  0.0026,  0.0062,  0.0260, -0.0262, -0.0089, -0.0216,\n",
      "        -0.0348,  0.0035,  0.0121, -0.0129,  0.0304, -0.0149, -0.0355,  0.0084,\n",
      "         0.0022,  0.0139,  0.0068, -0.0184,  0.0141,  0.0093,  0.0084,  0.0085,\n",
      "        -0.0177, -0.0105, -0.0048,  0.0309, -0.0297, -0.0210,  0.0320,  0.0081,\n",
      "         0.0280, -0.0074,  0.0177, -0.0339, -0.0079,  0.0042,  0.0277,  0.0084,\n",
      "         0.0097, -0.0089, -0.0012,  0.0155, -0.0192, -0.0317,  0.0329,  0.0156,\n",
      "         0.0154, -0.0117,  0.0007, -0.0309,  0.0304, -0.0007, -0.0043, -0.0337],\n",
      "       requires_grad=True) torch.Size([128])\n",
      "hidden2.weight Parameter containing:\n",
      "tensor([[ 0.0400, -0.0064, -0.0576,  ..., -0.0686, -0.0052, -0.0621],\n",
      "        [ 0.0019, -0.0072, -0.0584,  ..., -0.0554, -0.0604, -0.0294],\n",
      "        [ 0.0724,  0.0032, -0.0719,  ...,  0.0167,  0.0726, -0.0551],\n",
      "        ...,\n",
      "        [-0.0502, -0.0677, -0.0349,  ..., -0.0595,  0.0428, -0.0530],\n",
      "        [-0.0656,  0.0250,  0.0449,  ...,  0.0031,  0.0681, -0.0472],\n",
      "        [ 0.0059, -0.0735, -0.0608,  ...,  0.0552,  0.0296,  0.0502]],\n",
      "       requires_grad=True) torch.Size([256, 128])\n",
      "hidden2.bias Parameter containing:\n",
      "tensor([-0.0630,  0.0210,  0.0841,  0.0222, -0.0631,  0.0554,  0.0078, -0.0711,\n",
      "        -0.0610,  0.0748,  0.0084, -0.0605, -0.0282, -0.0223,  0.0524,  0.0564,\n",
      "         0.0672, -0.0296, -0.0851, -0.0624, -0.0832,  0.0224, -0.0532,  0.0633,\n",
      "         0.0074, -0.0706,  0.0732, -0.0837,  0.0389,  0.0114, -0.0473, -0.0834,\n",
      "        -0.0560, -0.0802, -0.0734, -0.0046, -0.0352, -0.0870, -0.0265,  0.0800,\n",
      "         0.0297,  0.0167, -0.0563, -0.0867, -0.0387,  0.0877,  0.0189,  0.0625,\n",
      "        -0.0081, -0.0417, -0.0764, -0.0609, -0.0091, -0.0059,  0.0216,  0.0754,\n",
      "        -0.0539,  0.0625,  0.0819, -0.0051,  0.0820,  0.0333,  0.0626,  0.0492,\n",
      "         0.0852, -0.0843,  0.0029,  0.0591,  0.0071, -0.0161, -0.0458, -0.0718,\n",
      "        -0.0266, -0.0377,  0.0808, -0.0783,  0.0251, -0.0548,  0.0295, -0.0553,\n",
      "         0.0608, -0.0662,  0.0755, -0.0189, -0.0822, -0.0595,  0.0598,  0.0876,\n",
      "        -0.0411,  0.0707, -0.0472,  0.0451, -0.0421, -0.0457,  0.0641, -0.0832,\n",
      "        -0.0024, -0.0345, -0.0087,  0.0610,  0.0097,  0.0545,  0.0140, -0.0492,\n",
      "        -0.0750, -0.0374,  0.0552,  0.0872, -0.0126, -0.0787, -0.0448, -0.0032,\n",
      "         0.0213, -0.0120,  0.0195, -0.0237, -0.0592, -0.0724,  0.0030,  0.0822,\n",
      "         0.0763,  0.0526, -0.0797, -0.0854,  0.0081, -0.0376,  0.0761, -0.0770,\n",
      "        -0.0750, -0.0301, -0.0391, -0.0590, -0.0533, -0.0882,  0.0010,  0.0882,\n",
      "         0.0592, -0.0282, -0.0758, -0.0778, -0.0646, -0.0245, -0.0756,  0.0871,\n",
      "         0.0649, -0.0633, -0.0403, -0.0219, -0.0802, -0.0063, -0.0630,  0.0298,\n",
      "        -0.0339, -0.0333, -0.0756,  0.0738,  0.0452,  0.0581, -0.0864,  0.0333,\n",
      "         0.0231, -0.0598, -0.0228,  0.0339,  0.0012,  0.0033,  0.0323,  0.0423,\n",
      "        -0.0049,  0.0763, -0.0464, -0.0515, -0.0301,  0.0486,  0.0781,  0.0005,\n",
      "         0.0582,  0.0031,  0.0166,  0.0527, -0.0661,  0.0069, -0.0635,  0.0103,\n",
      "         0.0329,  0.0805,  0.0455,  0.0665, -0.0096,  0.0328, -0.0162,  0.0233,\n",
      "         0.0253,  0.0334,  0.0355,  0.0182,  0.0512,  0.0642,  0.0641,  0.0285,\n",
      "        -0.0166, -0.0715, -0.0753,  0.0860, -0.0725,  0.0480,  0.0810,  0.0705,\n",
      "         0.0638,  0.0749, -0.0121, -0.0434,  0.0220,  0.0201, -0.0158,  0.0090,\n",
      "        -0.0414, -0.0117, -0.0334, -0.0605, -0.0536,  0.0023,  0.0239, -0.0546,\n",
      "         0.0626, -0.0223, -0.0853,  0.0359,  0.0574,  0.0125,  0.0509, -0.0651,\n",
      "        -0.0407, -0.0005, -0.0112, -0.0063,  0.0227, -0.0648, -0.0316,  0.0359,\n",
      "        -0.0406,  0.0069, -0.0091, -0.0331,  0.0185, -0.0787,  0.0759, -0.0674,\n",
      "        -0.0023,  0.0749,  0.0598, -0.0410, -0.0334, -0.0530, -0.0805, -0.0880],\n",
      "       requires_grad=True) torch.Size([256])\n",
      "out.weight Parameter containing:\n",
      "tensor([[-7.3023e-03, -1.5029e-02, -3.5238e-02,  ...,  3.3758e-02,\n",
      "         -3.8147e-06, -2.0039e-04],\n",
      "        [ 5.8797e-02,  4.3558e-02, -5.3787e-02,  ...,  3.1633e-02,\n",
      "         -3.0942e-02, -4.3032e-02],\n",
      "        [ 4.2586e-03,  2.4968e-02,  4.5476e-02,  ...,  4.4989e-02,\n",
      "         -4.0887e-02,  5.7916e-02],\n",
      "        ...,\n",
      "        [-4.3507e-02, -9.1307e-03, -1.8970e-02,  ...,  3.1103e-03,\n",
      "         -3.1377e-02,  2.5455e-02],\n",
      "        [-5.0124e-02, -4.9276e-02, -5.6694e-02,  ...,  2.1102e-02,\n",
      "         -2.4081e-02, -1.2590e-02],\n",
      "        [ 5.6184e-02,  3.4258e-02, -4.8268e-02,  ...,  6.2125e-02,\n",
      "         -2.4586e-02,  6.1344e-02]], requires_grad=True) torch.Size([10, 256])\n",
      "out.bias Parameter containing:\n",
      "tensor([-0.0277, -0.0266, -0.0501, -0.0307, -0.0580,  0.0353, -0.0443, -0.0182,\n",
      "        -0.0114, -0.0372], requires_grad=True) torch.Size([10])\n"
     ]
    }
   ],
   "source": [
    "for name, parameter in net.named_parameters():\n",
    "    print(name, parameter,parameter.size())"
   ]
  },
  {
   "cell_type": "markdown",
   "metadata": {},
   "source": [
    "### 使用TensorDataset和DataLoader来简化"
   ]
  },
  {
   "cell_type": "code",
   "execution_count": 15,
   "metadata": {
    "collapsed": true
   },
   "outputs": [],
   "source": [
    "from torch.utils.data import TensorDataset\n",
    "from torch.utils.data import DataLoader\n",
    "\n",
    "train_ds = TensorDataset(x_train, y_train)\n",
    "train_dl = DataLoader(train_ds, batch_size=bs, shuffle=True)\n",
    "\n",
    "valid_ds = TensorDataset(x_valid, y_valid)\n",
    "valid_dl = DataLoader(valid_ds, batch_size=bs * 2)"
   ]
  },
  {
   "cell_type": "code",
   "execution_count": 16,
   "metadata": {
    "collapsed": true
   },
   "outputs": [],
   "source": [
    "def get_data(train_ds, valid_ds, bs):\n",
    "    return (\n",
    "        DataLoader(train_ds, batch_size=bs, shuffle=True),\n",
    "        DataLoader(valid_ds, batch_size=bs * 2),\n",
    "    )"
   ]
  },
  {
   "cell_type": "markdown",
   "metadata": {},
   "source": [
    "- 一般在训练模型时加上model.train()，这样会正常使用Batch Normalization和 Dropout\n",
    "- 测试的时候一般选择model.eval()，这样就不会使用Batch Normalization和 Dropout"
   ]
  },
  {
   "cell_type": "code",
   "execution_count": 17,
   "metadata": {
    "collapsed": true
   },
   "outputs": [],
   "source": [
    "import numpy as np\n",
    "\n",
    "def fit(steps, model, loss_func, opt, train_dl, valid_dl):\n",
    "    for step in range(steps):\n",
    "        model.train()\n",
    "        for xb, yb in train_dl:\n",
    "            loss_batch(model, loss_func, xb, yb, opt)\n",
    "\n",
    "        model.eval()\n",
    "        with torch.no_grad():\n",
    "            losses, nums = zip(\n",
    "                *[loss_batch(model, loss_func, xb, yb) for xb, yb in valid_dl]\n",
    "            )\n",
    "        val_loss = np.sum(np.multiply(losses, nums)) / np.sum(nums)\n",
    "        print('当前step:'+str(step), '验证集损失：'+str(val_loss))"
   ]
  },
  {
   "cell_type": "code",
   "execution_count": 18,
   "metadata": {
    "collapsed": true
   },
   "outputs": [],
   "source": [
    "from torch import optim\n",
    "def get_model():\n",
    "    model = Mnist_NN()\n",
    "    return model, optim.SGD(model.parameters(), lr=0.001)"
   ]
  },
  {
   "cell_type": "code",
   "execution_count": 19,
   "metadata": {
    "collapsed": true
   },
   "outputs": [],
   "source": [
    "def loss_batch(model, loss_func, xb, yb, opt=None):\n",
    "    loss = loss_func(model(xb), yb)\n",
    "\n",
    "    if opt is not None:\n",
    "        loss.backward()\n",
    "        opt.step()\n",
    "        opt.zero_grad()\n",
    "\n",
    "    return loss.item(), len(xb)"
   ]
  },
  {
   "cell_type": "code",
   "execution_count": null,
   "metadata": {},
   "outputs": [],
   "source": []
  },
  {
   "cell_type": "markdown",
   "metadata": {},
   "source": [
    "### 三行搞定！"
   ]
  },
  {
   "cell_type": "code",
   "execution_count": 20,
   "metadata": {},
   "outputs": [
    {
     "name": "stdout",
     "output_type": "stream",
     "text": [
      "当前step:0 验证集损失：2.2744764854431154\n",
      "当前step:1 验证集损失：2.2337563312530517\n",
      "当前step:2 验证集损失：2.169186508178711\n",
      "当前step:3 验证集损失：2.066862322998047\n",
      "当前step:4 验证集损失：1.911208521461487\n",
      "当前step:5 验证集损失：1.6935717069625855\n",
      "当前step:6 验证集损失：1.4369251892089843\n",
      "当前step:7 验证集损失：1.1991585998535157\n",
      "当前step:8 验证集损失：1.014420185661316\n",
      "当前step:9 验证集损失：0.8793546689033508\n",
      "当前step:10 验证集损失：0.7802110612869263\n",
      "当前step:11 验证集损失：0.7035645777702332\n",
      "当前step:12 验证集损失：0.644445543384552\n",
      "当前step:13 验证集损失：0.5972626617431641\n",
      "当前step:14 验证集损失：0.5589185689926147\n",
      "当前step:15 验证集损失：0.5278028427124023\n",
      "当前step:16 验证集损失：0.5011459625720978\n",
      "当前step:17 验证集损失：0.47938022832870486\n",
      "当前step:18 验证集损失：0.46068551354408266\n",
      "当前step:19 验证集损失：0.4446502345561981\n",
      "当前step:20 验证集损失：0.43097188382148743\n",
      "当前step:21 验证集损失：0.41868391275405886\n",
      "当前step:22 验证集损失：0.407663818359375\n",
      "当前step:23 验证集损失：0.3982532854318619\n",
      "当前step:24 验证集损失：0.3896841794013977\n"
     ]
    }
   ],
   "source": [
    "train_dl, valid_dl = get_data(train_ds, valid_ds, bs)\n",
    "model, opt = get_model()\n",
    "fit(25, model, loss_func, opt, train_dl, valid_dl)"
   ]
  },
  {
   "cell_type": "code",
   "execution_count": null,
   "metadata": {
    "collapsed": true
   },
   "outputs": [],
   "source": []
  }
 ],
 "metadata": {
  "kernelspec": {
   "display_name": "Python 3",
   "language": "python",
   "name": "python3"
  },
  "language_info": {
   "codemirror_mode": {
    "name": "ipython",
    "version": 3
   },
   "file_extension": ".py",
   "mimetype": "text/x-python",
   "name": "python",
   "nbconvert_exporter": "python",
   "pygments_lexer": "ipython3",
   "version": "3.10.12"
  }
 },
 "nbformat": 4,
 "nbformat_minor": 1
}
