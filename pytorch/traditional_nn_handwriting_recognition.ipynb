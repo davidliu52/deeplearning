{
 "cells": [
  {
   "cell_type": "markdown",
   "metadata": {},
   "source": [
    "### Mnist分类任务：\n",
    "\n",
    "- 网络基本构建与训练方法，常用函数解析\n",
    "\n",
    "- torch.nn.functional模块\n",
    "\n",
    "- nn.Module模块\n"
   ]
  },
  {
   "cell_type": "markdown",
   "metadata": {},
   "source": [
    "### 读取Mnist数据集\n",
    "- 会自动进行下载"
   ]
  },
  {
   "cell_type": "code",
   "execution_count": 324,
   "metadata": {
    "collapsed": true
   },
   "outputs": [],
   "source": [
    "%matplotlib inline"
   ]
  },
  {
   "cell_type": "code",
   "execution_count": 325,
   "metadata": {},
   "outputs": [],
   "source": [
    "from pathlib import Path\n",
    "import requests\n",
    "PATH_file =Path( r'D:\\studydata\\machine_bild_learn\\AI\\资料\\缺陷检测章节资料\\PyTorch基础\\2-神经网络实战分类与回归任务\\神经网络实战分类与回归任务\\data\\mnist\\mnist.pkl.gz')\n"
   ]
  },
  {
   "cell_type": "code",
   "execution_count": 326,
   "metadata": {
    "collapsed": true
   },
   "outputs": [],
   "source": [
    "import pickle\n",
    "import gzip\n",
    "\n",
    "with gzip.open((PATH_file).as_posix(), \"rb\") as f:\n",
    "        ((x_train, y_train), (x_valid, y_valid), _) = pickle.load(f, encoding=\"latin-1\")"
   ]
  },
  {
   "cell_type": "code",
   "execution_count": 327,
   "metadata": {},
   "outputs": [
    {
     "name": "stdout",
     "output_type": "stream",
     "text": [
      "Tensor Flow Version: 2.13.0\n"
     ]
    }
   ],
   "source": [
    "import tensorflow as tf\n",
    "print(f\"Tensor Flow Version: {tf.__version__}\")\n",
    "from tensorflow import keras\n",
    "from tensorflow.keras import layers,models"
   ]
  },
  {
   "cell_type": "markdown",
   "metadata": {},
   "source": [
    "784是mnist数据集每个样本的像素点个数"
   ]
  },
  {
   "cell_type": "code",
   "execution_count": 328,
   "metadata": {},
   "outputs": [
    {
     "name": "stdout",
     "output_type": "stream",
     "text": [
      "(50000, 784)\n",
      "0\n"
     ]
    },
    {
     "data": {
      "image/png": "[encoded data removed]",
      "text/plain": [
       "<Figure size 640x480 with 1 Axes>"
      ]
     },
     "metadata": {},
     "output_type": "display_data"
    }
   ],
   "source": [
    "from matplotlib import pyplot\n",
    "import numpy as np\n",
    "\n",
    "pyplot.imshow(x_train[1].reshape((28, 28)), cmap=\"gray\")\n",
    "print(x_train.shape)\n",
    "print(y_train[1])"
   ]
  },
  {
   "cell_type": "markdown",
   "metadata": {},
   "source": [
    "<img src=\"./img/4.png\" alt=\"FAO\" width=\"790\">"
   ]
  },
  {
   "cell_type": "markdown",
   "metadata": {},
   "source": [
    "<img src=\"./img/5.png\" alt=\"FAO\" width=\"790\">"
   ]
  },
  {
   "cell_type": "markdown",
   "metadata": {},
   "source": [
    "注意数据需转换成tensor才能参与后续建模训练\n"
   ]
  },
  {
   "cell_type": "code",
   "execution_count": 329,
   "metadata": {},
   "outputs": [
    {
     "name": "stdout",
     "output_type": "stream",
     "text": [
      "50000 784\n",
      "torch.Size([50000, 784])\n",
      "torch.Size([50000])\n",
      "tensor(0) tensor(9)\n"
     ]
    }
   ],
   "source": [
    "import torch\n",
    "\n",
    "x_train, y_train, x_valid, y_valid = map(\n",
    "    torch.tensor, (x_train, y_train, x_valid, y_valid)\n",
    ")\n",
    "n, c = x_train.shape\n",
    "#x_train, x_train.shape, y_train.min(), y_train.max()\n",
    "#print(x_train, y_train)\n",
    "print(n,c)\n",
    "print(x_train.shape)\n",
    "print(y_train.shape)\n",
    "print(y_train.min(), y_train.max())"
   ]
  },
  {
   "cell_type": "markdown",
   "metadata": {},
   "source": [
    "### torch.nn.functional 很多层和函数在这里都会见到\n",
    "\n",
    "torch.nn.functional中有很多功能，后续会常用的。那什么时候使用nn.Module，什么时候使用nn.functional呢？一般情况下，如果模型有可学习的参数，最好用nn.Module，其他情况nn.functional相对更简单一些"
   ]
  },
  {
   "cell_type": "code",
   "execution_count": 330,
   "metadata": {
    "collapsed": true
   },
   "outputs": [],
   "source": [
    "import torch.nn.functional as F\n",
    "\n",
    "loss_func = F.cross_entropy\n",
    "\n",
    "def model(xb):\n",
    "    return xb.mm(weights) + bias"
   ]
  },
  {
   "cell_type": "code",
   "execution_count": 331,
   "metadata": {},
   "outputs": [
    {
     "name": "stdout",
     "output_type": "stream",
     "text": [
      "torch.Size([64, 784])\n",
      "tensor([0., 0., 0., 0., 0., 0., 0., 0., 0., 0.], requires_grad=True)\n",
      "tensor(17.1585, grad_fn=<NllLossBackward0>)\n"
     ]
    }
   ],
   "source": [
    "bs = 64\n",
    "xb = x_train[0:bs]  # a mini-batch from x\n",
    "yb = y_train[0:bs]\n",
    "print(xb.shape)\n",
    "weights = torch.randn([784, 10], dtype = torch.float,  requires_grad = True) \n",
    "bs = 64\n",
    "bias = torch.zeros(10, requires_grad=True)\n",
    "print(bias)\n",
    "print(loss_func(model(xb), yb))"
   ]
  },
  {
   "cell_type": "markdown",
   "metadata": {},
   "source": [
    "### 创建一个model来更简化代码"
   ]
  },
  {
   "cell_type": "markdown",
   "metadata": {},
   "source": [
    "- 必须继承nn.Module且在其构造函数中需调用nn.Module的构造函数\n",
    "- 无需写反向传播函数，nn.Module能够利用autograd自动实现反向传播\n",
    "- Module中的可学习参数可以通过named_parameters()或者parameters()返回迭代器"
   ]
  },
  {
   "cell_type": "code",
   "execution_count": 332,
   "metadata": {
    "collapsed": true
   },
   "outputs": [],
   "source": [
    "from torch import nn\n",
    "\n",
    "class Mnist_NN(nn.Module):\n",
    "    def __init__(self):\n",
    "        super().__init__()\n",
    "        self.hidden1 = nn.Linear(784, 128)\n",
    "        self.hidden2 = nn.Linear(128, 256)\n",
    "        self.out  = nn.Linear(256, 10)\n",
    "\n",
    "    def forward(self, x):\n",
    "        x = F.relu(self.hidden1(x))\n",
    "        x = F.relu(self.hidden2(x))\n",
    "        x = self.out(x)\n",
    "        return x\n",
    "        "
   ]
  },
  {
   "cell_type": "code",
   "execution_count": 333,
   "metadata": {},
   "outputs": [
    {
     "name": "stdout",
     "output_type": "stream",
     "text": [
      "Mnist_NN(\n",
      "  (hidden1): Linear(in_features=784, out_features=128, bias=True)\n",
      "  (hidden2): Linear(in_features=128, out_features=256, bias=True)\n",
      "  (out): Linear(in_features=256, out_features=10, bias=True)\n",
      ")\n"
     ]
    }
   ],
   "source": [
    "net = Mnist_NN()\n",
    "print(net)\n"
   ]
  },
  {
   "cell_type": "markdown",
   "metadata": {},
   "source": [
    "可以打印我们定义好名字里的权重和偏置项"
   ]
  },
  {
   "cell_type": "code",
   "execution_count": 334,
   "metadata": {},
   "outputs": [
    {
     "name": "stdout",
     "output_type": "stream",
     "text": [
      "hidden1.weight Parameter containing:\n",
      "tensor([[-0.0085,  0.0312,  0.0140,  ...,  0.0257, -0.0149, -0.0349],\n",
      "        [ 0.0051, -0.0155, -0.0175,  ...,  0.0356,  0.0087,  0.0147],\n",
      "        [ 0.0130,  0.0244, -0.0144,  ...,  0.0082,  0.0239, -0.0183],\n",
      "        ...,\n",
      "        [ 0.0026, -0.0208, -0.0256,  ...,  0.0290,  0.0035,  0.0221],\n",
      "        [ 0.0086,  0.0185,  0.0098,  ...,  0.0335, -0.0189, -0.0190],\n",
      "        [-0.0050,  0.0131, -0.0200,  ..., -0.0094,  0.0010,  0.0094]],\n",
      "       requires_grad=True) torch.Size([128, 784])\n",
      "hidden1.bias Parameter containing:\n",
      "tensor([-2.1184e-02,  1.4606e-03, -1.3085e-02,  1.5034e-02, -1.4020e-02,\n",
      "         1.8842e-02, -1.3378e-02,  1.2307e-02, -2.6112e-02,  3.0850e-02,\n",
      "        -1.6591e-02, -2.1995e-02,  2.5079e-02, -5.1379e-03, -2.7634e-02,\n",
      "         1.1312e-02,  1.3873e-04,  8.1840e-03, -9.1874e-03, -1.8534e-02,\n",
      "         1.6100e-02,  5.7096e-03, -1.4701e-02, -2.0264e-02,  1.5518e-02,\n",
      "        -1.7882e-03,  2.6316e-02,  2.1472e-02, -8.3282e-03,  2.4869e-02,\n",
      "         2.3461e-02, -7.3480e-03,  2.6031e-02,  1.3285e-02,  2.7748e-02,\n",
      "         1.4032e-02, -1.3871e-02, -1.9789e-02,  3.3955e-02, -2.4154e-02,\n",
      "         9.1346e-03,  8.0694e-05, -2.2787e-02,  3.0043e-02, -2.7342e-02,\n",
      "        -7.2261e-03,  9.4539e-03,  2.4542e-02,  2.0412e-02,  3.0953e-02,\n",
      "        -3.5040e-02, -3.5889e-03,  1.5658e-03, -4.1415e-03,  2.8458e-02,\n",
      "         1.2371e-02, -3.3957e-03, -1.8574e-02, -6.1985e-04,  3.1816e-02,\n",
      "        -2.7536e-02,  3.5186e-02,  2.6280e-02, -2.0756e-03, -1.6348e-03,\n",
      "        -4.6619e-03,  1.5051e-02,  1.3811e-03,  3.9098e-04, -2.3848e-02,\n",
      "         2.2213e-02,  4.5689e-03, -2.5392e-02,  1.6045e-02, -5.5698e-03,\n",
      "        -3.5028e-02,  1.7297e-02,  4.7418e-04, -2.4754e-02,  3.1068e-02,\n",
      "        -1.5293e-02,  1.2480e-02,  4.9036e-04,  2.9488e-02,  6.5046e-03,\n",
      "        -3.7951e-03,  9.8093e-03, -2.8981e-02,  1.6247e-02, -3.4658e-02,\n",
      "         1.5156e-02, -2.9552e-02, -4.2855e-03,  2.3015e-02, -1.6332e-02,\n",
      "         1.7141e-02, -1.0613e-02,  4.3778e-03,  2.2591e-02, -9.4314e-03,\n",
      "        -2.9818e-02,  2.0416e-02, -8.2090e-03, -1.1296e-02, -3.9207e-03,\n",
      "         5.6446e-03,  2.0807e-03, -2.0408e-02, -2.3890e-02, -2.9808e-02,\n",
      "         6.0588e-04,  1.0463e-02, -6.3477e-03,  2.6626e-02, -7.8128e-03,\n",
      "        -2.4693e-02, -1.2346e-03,  3.0802e-02,  3.1849e-02,  6.8929e-03,\n",
      "        -5.4271e-03,  2.5100e-03, -2.2981e-02, -4.1720e-03, -2.4446e-02,\n",
      "        -1.2852e-02,  8.6187e-03,  7.9698e-04], requires_grad=True) torch.Size([128])\n",
      "hidden2.weight Parameter containing:\n",
      "tensor([[ 0.0072, -0.0374, -0.0482,  ...,  0.0327, -0.0198,  0.0162],\n",
      "        [-0.0855,  0.0220, -0.0321,  ..., -0.0404,  0.0246, -0.0688],\n",
      "        [ 0.0549,  0.0686,  0.0102,  ...,  0.0222,  0.0781,  0.0203],\n",
      "        ...,\n",
      "        [-0.0252, -0.0045, -0.0287,  ...,  0.0684,  0.0688,  0.0876],\n",
      "        [ 0.0574, -0.0510,  0.0620,  ...,  0.0136, -0.0682,  0.0692],\n",
      "        [-0.0698, -0.0240,  0.0109,  ..., -0.0189,  0.0635,  0.0853]],\n",
      "       requires_grad=True) torch.Size([256, 128])\n",
      "hidden2.bias Parameter containing:\n",
      "tensor([-1.4242e-02, -7.6137e-02,  2.8470e-02,  4.8930e-02,  7.2052e-02,\n",
      "         2.0885e-02, -4.5977e-02, -4.4633e-03, -8.3610e-02,  1.5032e-02,\n",
      "        -4.6364e-02,  6.9860e-02, -7.8682e-02, -4.3626e-02,  5.7160e-02,\n",
      "         2.4660e-02,  1.2391e-02, -3.6704e-02, -2.7961e-02, -2.2064e-02,\n",
      "         6.0387e-03, -9.5828e-03,  7.6851e-02, -2.4183e-02,  7.6979e-02,\n",
      "        -6.6364e-03, -5.4000e-02,  7.4559e-02,  4.3944e-02,  8.4763e-02,\n",
      "        -4.5928e-02, -1.9488e-02,  8.7519e-02, -2.8497e-02,  1.1804e-02,\n",
      "         3.8056e-03, -5.9475e-02,  5.3285e-02,  5.2506e-02,  5.3721e-02,\n",
      "         4.6452e-02,  1.1481e-02,  2.6722e-03,  6.4121e-02, -2.5861e-02,\n",
      "         6.9756e-02, -5.5518e-02,  7.3656e-02,  7.5208e-02, -1.4637e-02,\n",
      "        -8.3845e-02, -4.0504e-03,  6.6458e-02, -8.5566e-02,  3.7413e-02,\n",
      "         2.0225e-02, -3.4117e-02,  6.8313e-02,  5.7906e-02, -6.4284e-02,\n",
      "         5.5315e-02,  8.4173e-02,  6.9113e-02,  2.9578e-02,  7.7504e-02,\n",
      "         6.4584e-02,  6.8421e-02,  3.8114e-02, -2.6935e-02, -4.7994e-03,\n",
      "        -2.8350e-02, -8.2168e-02,  8.7169e-02,  7.0138e-02,  7.4619e-02,\n",
      "        -2.5589e-02,  6.6524e-02,  3.4130e-02,  7.4757e-02, -6.9283e-02,\n",
      "        -6.1453e-02, -3.4452e-02, -3.7423e-02,  2.4197e-02, -6.6867e-02,\n",
      "        -4.6457e-02, -6.2972e-02,  8.4094e-02,  8.1693e-02,  5.9053e-02,\n",
      "         8.2903e-02,  7.1061e-02,  2.3944e-02,  3.2625e-02, -4.3600e-02,\n",
      "        -6.7312e-02,  4.0117e-02, -1.6154e-02, -8.3258e-03,  1.8228e-02,\n",
      "        -7.7471e-03, -2.7094e-02,  3.3839e-03, -6.2697e-02, -3.4978e-02,\n",
      "         1.8447e-02,  1.2135e-03,  5.0941e-02,  7.1458e-02, -2.1383e-02,\n",
      "         2.9104e-02,  7.6889e-02, -5.8813e-02,  5.1611e-02,  3.3220e-02,\n",
      "         2.5832e-02,  2.5848e-02, -5.5306e-02, -6.1654e-02,  7.8951e-03,\n",
      "         4.5783e-02, -7.6755e-02, -6.4466e-02, -5.3089e-02,  2.1578e-02,\n",
      "        -2.8768e-02, -3.6382e-02, -1.4976e-03, -3.5287e-02,  4.0821e-02,\n",
      "         7.7292e-02,  8.9878e-03,  7.5910e-02, -3.3263e-02, -3.7734e-03,\n",
      "        -7.1170e-02, -8.6100e-03,  2.2592e-02, -2.4363e-02,  2.5828e-02,\n",
      "        -5.9457e-02, -3.7479e-03, -6.8919e-02,  2.3473e-02, -6.1405e-02,\n",
      "        -6.7501e-02, -8.4786e-03,  5.6516e-02, -8.0193e-02, -5.7051e-03,\n",
      "        -5.5257e-02, -3.9715e-02,  2.5733e-02,  5.9285e-02, -5.8244e-02,\n",
      "        -1.5134e-02, -3.0952e-02, -3.8055e-02, -2.4830e-02,  4.1735e-02,\n",
      "         4.3197e-02,  5.6849e-02,  7.1728e-02,  7.8719e-02,  6.9689e-02,\n",
      "         5.0692e-02,  7.6394e-02,  5.0845e-02, -4.8189e-02,  1.5085e-02,\n",
      "        -6.9746e-02,  9.8998e-03, -2.2669e-02,  7.5007e-02,  1.6322e-02,\n",
      "         6.4096e-02,  8.5895e-02, -4.2609e-02, -3.8277e-02,  2.3293e-02,\n",
      "        -6.5392e-02,  2.9533e-02, -5.2387e-02, -7.0616e-03,  1.9891e-02,\n",
      "        -2.4367e-02, -4.1493e-02, -6.2219e-03, -2.3602e-02, -2.7148e-02,\n",
      "         5.1268e-02, -8.7019e-02,  6.0127e-02,  7.3847e-02,  8.3650e-02,\n",
      "        -5.2434e-04,  3.8976e-02,  6.2704e-02,  3.6418e-02,  8.6636e-02,\n",
      "         6.0054e-02, -3.2032e-02,  6.0605e-02, -4.6876e-02,  1.3968e-02,\n",
      "         3.5407e-02,  4.8208e-02,  7.9758e-02, -4.0406e-02, -5.1632e-02,\n",
      "         3.9190e-02,  2.9291e-02,  6.1754e-02, -7.3291e-05, -2.0041e-02,\n",
      "         5.2295e-02, -4.2581e-02, -2.9905e-04, -8.3305e-02,  6.2768e-02,\n",
      "        -6.5150e-02,  1.4604e-02,  5.9621e-02, -1.8174e-02, -6.9752e-02,\n",
      "        -7.5935e-02, -5.9341e-02,  7.3856e-02,  7.8607e-02, -7.2844e-02,\n",
      "         8.5122e-02, -7.8779e-02,  1.8510e-02, -6.1396e-02, -5.5112e-02,\n",
      "        -4.5446e-02, -2.7750e-02, -1.7990e-02, -4.0882e-02, -4.3015e-02,\n",
      "        -5.8067e-02, -4.0285e-04,  1.8869e-02, -2.2566e-02, -4.1616e-02,\n",
      "        -8.4756e-02, -6.5593e-02,  7.7125e-02, -8.3604e-02,  7.9304e-02,\n",
      "         1.1531e-02, -5.9764e-03, -8.5439e-02,  6.0303e-02,  3.3856e-02,\n",
      "         6.4598e-03], requires_grad=True) torch.Size([256])\n",
      "out.weight Parameter containing:\n",
      "tensor([[ 5.4696e-02,  6.1338e-02,  1.6386e-02,  ..., -3.2867e-02,\n",
      "         -3.4205e-02,  1.5327e-02],\n",
      "        [ 5.9616e-02,  1.7166e-05, -2.8826e-02,  ...,  3.6165e-02,\n",
      "         -1.6117e-02,  7.6180e-03],\n",
      "        [ 4.4790e-02,  1.9675e-02, -4.1531e-02,  ...,  9.6762e-03,\n",
      "          5.0898e-02, -3.3731e-02],\n",
      "        ...,\n",
      "        [ 5.4976e-03,  2.0026e-02,  5.0188e-03,  ..., -2.1288e-03,\n",
      "          7.0099e-03, -4.4648e-02],\n",
      "        [-1.5592e-03, -3.2382e-02,  5.5843e-02,  ...,  4.0024e-02,\n",
      "          9.5552e-04, -3.0135e-02],\n",
      "        [ 3.3517e-02, -9.2533e-03, -1.3242e-02,  ...,  3.7266e-02,\n",
      "         -1.7208e-02,  1.6762e-02]], requires_grad=True) torch.Size([10, 256])\n",
      "out.bias Parameter containing:\n",
      "tensor([ 0.0505, -0.0303,  0.0375, -0.0104,  0.0336, -0.0422, -0.0618,  0.0400,\n",
      "         0.0390, -0.0007], requires_grad=True) torch.Size([10])\n"
     ]
    }
   ],
   "source": [
    "for name, parameter in net.named_parameters():\n",
    "    print(name, parameter,parameter.size())"
   ]
  },
  {
   "cell_type": "markdown",
   "metadata": {},
   "source": [
    "### 使用TensorDataset和DataLoader来简化"
   ]
  },
  {
   "cell_type": "code",
   "execution_count": 335,
   "metadata": {
    "collapsed": true
   },
   "outputs": [],
   "source": [
    "from torch.utils.data import TensorDataset\n",
    "from torch.utils.data import DataLoader\n",
    "\n",
    "train_ds = TensorDataset(x_train, y_train)\n",
    "train_dl = DataLoader(train_ds, batch_size=bs, shuffle=True)\n",
    "\n",
    "valid_ds = TensorDataset(x_valid, y_valid)\n",
    "valid_dl = DataLoader(valid_ds, batch_size=bs * 2)"
   ]
  },
  {
   "cell_type": "code",
   "execution_count": 336,
   "metadata": {
    "collapsed": true
   },
   "outputs": [],
   "source": [
    "def get_data(train_ds, valid_ds, bs):\n",
    "    return (\n",
    "        DataLoader(train_ds, batch_size=bs, shuffle=True),\n",
    "        DataLoader(valid_ds, batch_size=bs * 2),\n",
    "    )"
   ]
  },
  {
   "cell_type": "markdown",
   "metadata": {},
   "source": [
    "- 一般在训练模型时加上model.train()，这样会正常使用Batch Normalization和 Dropout\n",
    "- 测试的时候一般选择model.eval()，这样就不会使用Batch Normalization和 Dropout"
   ]
  },
  {
   "cell_type": "code",
   "execution_count": 337,
   "metadata": {
    "collapsed": true
   },
   "outputs": [],
   "source": [
    "import numpy as np\n",
    "#steps:训练次数(epoch)\n",
    "#model:模型(Mnist_NN)\n",
    "#loss_func:损失函数(F.cross_entropy)\n",
    "#opt:优化器(optim.SGD)\n",
    "#train_dl, valid_dl = get_data(train_ds, valid_ds, bs)\n",
    "#train_dl:训练集(train_ds = TensorDataset(x_train, y_train))\n",
    "#valid_dl:验证集(valid_ds = TensorDataset(x_valid, y_valid))\n",
    "train_losses = []  # List to store training losses\n",
    "valid_losses = []  # List to store validation losses\n",
    "def fit(steps, model, loss_func, opt, train_dl, valid_dl):\n",
    "    for step in range(steps):\n",
    "        model.train()\n",
    "        for xb, yb in train_dl:\n",
    "            loss=loss_batch(model, loss_func, xb, yb, opt)\n",
    "            tarinloss,trainnum = zip(*[loss])\n",
    "            train_loss=np.sum(np.multiply(tarinloss, trainnum)) / np.sum(trainnum)\n",
    "        train_losses.append(train_loss)\n",
    "\n",
    "        model.eval()\n",
    "        with torch.no_grad():\n",
    "            losses, nums = zip(\n",
    "                *[loss_batch(model, loss_func, xb, yb) for xb, yb in valid_dl]\n",
    "            )\n",
    "        val_loss = np.sum(np.multiply(losses, nums)) / np.sum(nums)\n",
    "        valid_losses.append(val_loss)\n",
    "        print('当前step:'+f'{step+1}/{steps}', f'Training Loss: {train_loss:.4f}','验证集损失：'+str(val_loss))\n"
   ]
  },
  {
   "cell_type": "code",
   "execution_count": 338,
   "metadata": {
    "collapsed": true
   },
   "outputs": [],
   "source": [
    "from torch import optim\n",
    "def get_model():\n",
    "    model = Mnist_NN()\n",
    "    return model, optim.SGD(model.parameters(), lr=0.001)"
   ]
  },
  {
   "cell_type": "code",
   "execution_count": 339,
   "metadata": {
    "collapsed": true
   },
   "outputs": [],
   "source": [
    "def loss_batch(model, loss_func, xb, yb, opt=None):\n",
    "    loss = loss_func(model(xb), yb)\n",
    "\n",
    "    if opt is not None:\n",
    "        loss.backward()\n",
    "        opt.step()\n",
    "        opt.zero_grad()\n",
    "\n",
    "    return loss.item(), len(xb)"
   ]
  },
  {
   "cell_type": "code",
   "execution_count": null,
   "metadata": {},
   "outputs": [],
   "source": []
  },
  {
   "cell_type": "markdown",
   "metadata": {},
   "source": [
    "### 三行搞定！"
   ]
  },
  {
   "cell_type": "code",
   "execution_count": 340,
   "metadata": {},
   "outputs": [
    {
     "name": "stdout",
     "output_type": "stream",
     "text": [
      "当前step:1/25 Training Loss: 2.2767 验证集损失：2.274593022918701\n",
      "当前step:2/25 Training Loss: 2.2247 验证集损失：2.2371059051513673\n",
      "当前step:3/25 Training Loss: 2.1790 验证集损失：2.1787894664764402\n",
      "当前step:4/25 Training Loss: 2.0622 验证集损失：2.082989835357666\n",
      "当前step:5/25 Training Loss: 1.7755 验证集损失：1.9281261169433594\n",
      "当前step:6/25 Training Loss: 1.5433 验证集损失：1.7068772550582885\n",
      "当前step:7/25 Training Loss: 1.3916 验证集损失：1.450783151435852\n",
      "当前step:8/25 Training Loss: 1.1610 验证集损失：1.2123912401199342\n",
      "当前step:9/25 Training Loss: 0.8673 验证集损失：1.0216688814163208\n",
      "当前step:10/25 Training Loss: 1.1555 验证集损失：0.8790760816574097\n",
      "当前step:11/25 Training Loss: 0.9726 验证集损失：0.7725337973594666\n",
      "当前step:12/25 Training Loss: 0.5681 验证集损失：0.6921296997070312\n",
      "当前step:13/25 Training Loss: 0.5559 验证集损失：0.6293694160461426\n",
      "当前step:14/25 Training Loss: 0.5857 验证集损失：0.5803983006477356\n",
      "当前step:15/25 Training Loss: 0.4164 验证集损失：0.5414986032009125\n",
      "当前step:16/25 Training Loss: 0.6310 验证集损失：0.5094116192340851\n",
      "当前step:17/25 Training Loss: 0.2710 验证集损失：0.4835381308555603\n",
      "当前step:18/25 Training Loss: 0.4827 验证集损失：0.46163805418014525\n",
      "当前step:19/25 Training Loss: 0.5662 验证集损失：0.4436696774959564\n",
      "当前step:20/25 Training Loss: 0.5426 验证集损失：0.4279641837120056\n",
      "当前step:21/25 Training Loss: 0.8019 验证集损失：0.414700879907608\n",
      "当前step:22/25 Training Loss: 0.1989 验证集损失：0.40270239803791047\n",
      "当前step:23/25 Training Loss: 0.1866 验证集损失：0.39269970476627347\n",
      "当前step:24/25 Training Loss: 0.2944 验证集损失：0.3835616925954819\n",
      "当前step:25/25 Training Loss: 0.6546 验证集损失：0.3756325264930725\n"
     ]
    }
   ],
   "source": [
    "train_dl, valid_dl = get_data(train_ds, valid_ds, bs)\n",
    "model, opt = get_model()\n",
    "fit(25, model, loss_func, opt, train_dl, valid_dl)\n",
    "#print(train_loss,val_loss)"
   ]
  },
  {
   "cell_type": "code",
   "execution_count": 341,
   "metadata": {},
   "outputs": [
    {
     "data": {
      "text/plain": [
       "[2.2767348289489746,\n",
       " 2.2247486114501953,\n",
       " 2.1790177822113037,\n",
       " 2.062224864959717,\n",
       " 1.7754526138305664,\n",
       " 1.5433343648910522,\n",
       " 1.391571283340454,\n",
       " 1.1609596014022827,\n",
       " 0.8672518730163574,\n",
       " 1.1555482149124146,\n",
       " 0.9726318717002869,\n",
       " 0.5681352019309998,\n",
       " 0.5559350252151489,\n",
       " 0.5857340693473816,\n",
       " 0.4164499044418335,\n",
       " 0.631029486656189,\n",
       " 0.27104219794273376,\n",
       " 0.48273521661758423,\n",
       " 0.5662023425102234,\n",
       " 0.5426141619682312,\n",
       " 0.8018500804901123,\n",
       " 0.19887034595012665,\n",
       " 0.18664202094078064,\n",
       " 0.29441335797309875,\n",
       " 0.6546444892883301]"
      ]
     },
     "execution_count": 341,
     "metadata": {},
     "output_type": "execute_result"
    }
   ],
   "source": [
    "#train_losses"
   ]
  },
  {
   "cell_type": "code",
   "execution_count": 342,
   "metadata": {},
   "outputs": [
    {
     "data": {
      "image/png": "[encoded data removed]",
      "text/plain": [
       "<Figure size 640x480 with 1 Axes>"
      ]
     },
     "metadata": {},
     "output_type": "display_data"
    }
   ],
   "source": [
    "\n",
    "\n",
    "pyplot.plot(train_losses, label='Training loss')\n",
    "pyplot.plot(valid_losses, label='Validation loss')\n",
    "pyplot.legend()\n",
    "pyplot.show()\n"
   ]
  }
 ],
 "metadata": {
  "kernelspec": {
   "display_name": "Python 3",
   "language": "python",
   "name": "python3"
  },
  "language_info": {
   "codemirror_mode": {
    "name": "ipython",
    "version": 3
   },
   "file_extension": ".py",
   "mimetype": "text/x-python",
   "name": "python",
   "nbconvert_exporter": "python",
   "pygments_lexer": "ipython3",
   "version": "3.10.12"
  }
 },
 "nbformat": 4,
 "nbformat_minor": 1
}
