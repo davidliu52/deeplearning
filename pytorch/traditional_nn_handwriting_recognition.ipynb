{
 "cells": [
  {
   "cell_type": "markdown",
   "metadata": {},
   "source": [
    "### Mnist分类任务：\n",
    "\n",
    "- 网络基本构建与训练方法，常用函数解析\n",
    "\n",
    "- torch.nn.functional模块\n",
    "\n",
    "- nn.Module模块\n"
   ]
  },
  {
   "cell_type": "markdown",
   "metadata": {},
   "source": [
    "### 读取Mnist数据集\n",
    "- 会自动进行下载"
   ]
  },
  {
   "cell_type": "code",
   "execution_count": 387,
   "metadata": {
    "collapsed": true
   },
   "outputs": [],
   "source": [
    "%matplotlib inline"
   ]
  },
  {
   "cell_type": "code",
   "execution_count": 388,
   "metadata": {},
   "outputs": [],
   "source": [
    "from pathlib import Path\n",
    "import requests\n",
    "PATH_file =Path( r'D:\\studydata\\machine_bild_learn\\AI\\资料\\缺陷检测章节资料\\PyTorch基础\\2-神经网络实战分类与回归任务\\神经网络实战分类与回归任务\\data\\mnist\\mnist.pkl.gz')\n"
   ]
  },
  {
   "cell_type": "code",
   "execution_count": 389,
   "metadata": {
    "collapsed": true
   },
   "outputs": [],
   "source": [
    "import pickle\n",
    "import gzip\n",
    "\n",
    "with gzip.open((PATH_file).as_posix(), \"rb\") as f:\n",
    "        ((x_train, y_train), (x_valid, y_valid), _) = pickle.load(f, encoding=\"latin-1\")"
   ]
  },
  {
   "cell_type": "code",
   "execution_count": 390,
   "metadata": {},
   "outputs": [
    {
     "name": "stdout",
     "output_type": "stream",
     "text": [
      "Tensor Flow Version: 2.13.0\n"
     ]
    }
   ],
   "source": [
    "import tensorflow as tf\n",
    "print(f\"Tensor Flow Version: {tf.__version__}\")\n",
    "from tensorflow import keras\n",
    "from tensorflow.keras import layers,models"
   ]
  },
  {
   "cell_type": "markdown",
   "metadata": {},
   "source": [
    "784是mnist数据集每个样本的像素点个数"
   ]
  },
  {
   "cell_type": "code",
   "execution_count": 391,
   "metadata": {},
   "outputs": [
    {
     "name": "stdout",
     "output_type": "stream",
     "text": [
      "(50000, 784)\n",
      "0\n"
     ]
    },
    {
     "data": {
      "image/png": "[encoded data removed]",
      "text/plain": [
       "<Figure size 640x480 with 1 Axes>"
      ]
     },
     "metadata": {},
     "output_type": "display_data"
    }
   ],
   "source": [
    "from matplotlib import pyplot\n",
    "import numpy as np\n",
    "\n",
    "pyplot.imshow(x_train[1].reshape((28, 28)), cmap=\"gray\")\n",
    "print(x_train.shape)\n",
    "print(y_train[1])"
   ]
  },
  {
   "cell_type": "markdown",
   "metadata": {},
   "source": [
    "<img src=\"./img/4.png\" alt=\"FAO\" width=\"790\">"
   ]
  },
  {
   "cell_type": "markdown",
   "metadata": {},
   "source": [
    "<img src=\"./img/5.png\" alt=\"FAO\" width=\"790\">"
   ]
  },
  {
   "cell_type": "markdown",
   "metadata": {},
   "source": [
    "注意数据需转换成tensor才能参与后续建模训练\n"
   ]
  },
  {
   "cell_type": "code",
   "execution_count": 392,
   "metadata": {},
   "outputs": [
    {
     "name": "stdout",
     "output_type": "stream",
     "text": [
      "50000 784\n",
      "torch.Size([50000, 784])\n",
      "torch.Size([50000])\n",
      "tensor(0) tensor(9)\n"
     ]
    }
   ],
   "source": [
    "import torch\n",
    "\n",
    "x_train, y_train, x_valid, y_valid = map(\n",
    "    torch.tensor, (x_train, y_train, x_valid, y_valid)\n",
    ")\n",
    "n, c = x_train.shape\n",
    "#x_train, x_train.shape, y_train.min(), y_train.max()\n",
    "#print(x_train, y_train)\n",
    "print(n,c)\n",
    "print(x_train.shape)\n",
    "print(y_train.shape)\n",
    "print(y_train.min(), y_train.max())"
   ]
  },
  {
   "cell_type": "markdown",
   "metadata": {},
   "source": [
    "### torch.nn.functional 很多层和函数在这里都会见到\n",
    "\n",
    "torch.nn.functional中有很多功能，后续会常用的。那什么时候使用nn.Module，什么时候使用nn.functional呢？一般情况下，如果模型有可学习的参数，最好用nn.Module，其他情况nn.functional相对更简单一些"
   ]
  },
  {
   "cell_type": "code",
   "execution_count": 393,
   "metadata": {
    "collapsed": true
   },
   "outputs": [],
   "source": [
    "import torch.nn.functional as F\n",
    "\n",
    "loss_func = F.cross_entropy\n",
    "\n",
    "def model(xb):\n",
    "    return xb.mm(weights) + bias"
   ]
  },
  {
   "cell_type": "code",
   "execution_count": 394,
   "metadata": {},
   "outputs": [
    {
     "name": "stdout",
     "output_type": "stream",
     "text": [
      "torch.Size([64, 784])\n",
      "tensor([0., 0., 0., 0., 0., 0., 0., 0., 0., 0.], requires_grad=True)\n",
      "tensor(15.7623, grad_fn=<NllLossBackward0>)\n"
     ]
    }
   ],
   "source": [
    "bs = 64\n",
    "xb = x_train[0:bs]  # a mini-batch from x\n",
    "yb = y_train[0:bs]\n",
    "print(xb.shape)\n",
    "weights = torch.randn([784, 10], dtype = torch.float,  requires_grad = True) \n",
    "bs = 64\n",
    "bias = torch.zeros(10, requires_grad=True)\n",
    "print(bias)\n",
    "print(loss_func(model(xb), yb))"
   ]
  },
  {
   "cell_type": "markdown",
   "metadata": {},
   "source": [
    "### 创建一个model来更简化代码"
   ]
  },
  {
   "cell_type": "markdown",
   "metadata": {},
   "source": [
    "- 必须继承nn.Module且在其构造函数中需调用nn.Module的构造函数\n",
    "- 无需写反向传播函数，nn.Module能够利用autograd自动实现反向传播\n",
    "- Module中的可学习参数可以通过named_parameters()或者parameters()返回迭代器"
   ]
  },
  {
   "cell_type": "code",
   "execution_count": 395,
   "metadata": {
    "collapsed": true
   },
   "outputs": [],
   "source": [
    "from torch import nn\n",
    "\n",
    "class Mnist_NN(nn.Module):\n",
    "    def __init__(self):\n",
    "        super().__init__()\n",
    "        self.hidden1 = nn.Linear(784, 128)\n",
    "        self.hidden2 = nn.Linear(128, 256)\n",
    "        self.out  = nn.Linear(256, 10)\n",
    "\n",
    "    def forward(self, x):\n",
    "        x = F.relu(self.hidden1(x))\n",
    "        x = F.relu(self.hidden2(x))\n",
    "        x = self.out(x)\n",
    "        return x\n",
    "        "
   ]
  },
  {
   "cell_type": "code",
   "execution_count": 396,
   "metadata": {},
   "outputs": [
    {
     "name": "stdout",
     "output_type": "stream",
     "text": [
      "Mnist_NN(\n",
      "  (hidden1): Linear(in_features=784, out_features=128, bias=True)\n",
      "  (hidden2): Linear(in_features=128, out_features=256, bias=True)\n",
      "  (out): Linear(in_features=256, out_features=10, bias=True)\n",
      ")\n"
     ]
    }
   ],
   "source": [
    "net = Mnist_NN()\n",
    "print(net)\n"
   ]
  },
  {
   "cell_type": "markdown",
   "metadata": {},
   "source": [
    "可以打印我们定义好名字里的权重和偏置项"
   ]
  },
  {
   "cell_type": "code",
   "execution_count": 397,
   "metadata": {},
   "outputs": [
    {
     "name": "stdout",
     "output_type": "stream",
     "text": [
      "hidden1.weight Parameter containing:\n",
      "tensor([[-0.0288,  0.0161, -0.0061,  ..., -0.0007, -0.0313, -0.0076],\n",
      "        [ 0.0178, -0.0323,  0.0007,  ...,  0.0121, -0.0211, -0.0063],\n",
      "        [-0.0100,  0.0346, -0.0222,  ..., -0.0273, -0.0158,  0.0228],\n",
      "        ...,\n",
      "        [-0.0344,  0.0295, -0.0025,  ..., -0.0330,  0.0269, -0.0215],\n",
      "        [ 0.0273, -0.0050, -0.0340,  ..., -0.0198, -0.0263,  0.0011],\n",
      "        [ 0.0170, -0.0272, -0.0302,  ..., -0.0093,  0.0100,  0.0315]],\n",
      "       requires_grad=True) torch.Size([128, 784])\n",
      "hidden1.bias Parameter containing:\n",
      "tensor([ 4.8337e-03,  3.2469e-02, -2.0903e-02, -3.3078e-04, -5.6197e-03,\n",
      "         1.8316e-02,  2.2975e-03, -1.8621e-02, -1.3229e-02,  5.8254e-03,\n",
      "         3.4873e-02,  2.0578e-02,  5.8640e-03, -6.7475e-03, -7.5489e-03,\n",
      "        -1.4746e-02, -1.9950e-02, -1.8117e-02, -2.9267e-02,  1.5712e-02,\n",
      "        -3.3653e-02, -1.9535e-02,  3.0491e-02, -2.3013e-02, -3.2140e-02,\n",
      "        -3.4459e-02,  1.1670e-02,  2.7615e-02,  1.7720e-03, -2.8581e-02,\n",
      "        -2.9724e-02,  2.5630e-02, -1.6958e-02, -1.3237e-02,  1.2804e-02,\n",
      "        -4.9429e-03,  1.6409e-02, -9.2371e-03,  3.0663e-02,  2.5222e-02,\n",
      "         9.8567e-03, -2.7177e-02, -2.5424e-02,  2.2733e-02, -1.5443e-02,\n",
      "         4.6587e-03,  2.9152e-02, -1.1557e-02, -2.6789e-02,  3.1068e-02,\n",
      "         1.1833e-03,  2.3958e-02,  3.4227e-02, -5.1405e-03, -2.6994e-03,\n",
      "        -1.4964e-02, -2.3866e-02,  1.3846e-02, -2.9688e-02, -5.6318e-03,\n",
      "         3.4663e-02, -2.1302e-02,  7.9919e-03,  9.3316e-03, -2.5260e-02,\n",
      "         1.5948e-02, -4.9158e-03, -2.0502e-02,  4.5282e-03, -7.8096e-04,\n",
      "         1.2689e-02, -3.4362e-02,  3.0317e-02,  1.3425e-02, -2.7328e-02,\n",
      "         1.1187e-02, -2.1340e-02, -1.4246e-02, -1.1827e-03, -4.4116e-03,\n",
      "        -2.0318e-02, -5.4482e-03,  2.8669e-02,  1.2235e-02,  3.4560e-02,\n",
      "        -2.4761e-02,  2.5415e-02, -2.1728e-02,  1.4674e-02, -3.5704e-02,\n",
      "        -2.2477e-02, -3.2809e-03,  2.2359e-02,  5.3296e-03,  6.2015e-05,\n",
      "         2.1012e-02, -4.8807e-03, -3.2499e-02,  2.4081e-03, -1.4863e-02,\n",
      "        -2.5652e-02, -1.5656e-02,  3.3225e-02, -1.6143e-03, -5.8472e-03,\n",
      "         2.7673e-02, -7.4252e-04,  6.5428e-03,  5.9554e-03,  8.6231e-03,\n",
      "        -1.6813e-02,  5.8419e-03,  1.9523e-02, -2.3977e-02,  3.0298e-02,\n",
      "         1.6366e-02, -1.3146e-02,  1.5540e-02, -1.3425e-02, -2.7478e-03,\n",
      "        -3.0683e-02,  3.1311e-02, -2.0889e-02, -2.2416e-02, -2.2890e-02,\n",
      "         4.5020e-03,  2.0170e-02,  3.4683e-02], requires_grad=True) torch.Size([128])\n",
      "hidden2.weight Parameter containing:\n",
      "tensor([[ 0.0696, -0.0032,  0.0179,  ..., -0.0198, -0.0526, -0.0131],\n",
      "        [ 0.0476,  0.0780,  0.0568,  ...,  0.0499, -0.0008,  0.0022],\n",
      "        [-0.0151,  0.0515,  0.0018,  ..., -0.0481, -0.0861, -0.0602],\n",
      "        ...,\n",
      "        [ 0.0332,  0.0080,  0.0755,  ...,  0.0773, -0.0444,  0.0194],\n",
      "        [-0.0210, -0.0265,  0.0232,  ...,  0.0669, -0.0226,  0.0836],\n",
      "        [-0.0761,  0.0708,  0.0065,  ..., -0.0411,  0.0435, -0.0436]],\n",
      "       requires_grad=True) torch.Size([256, 128])\n",
      "hidden2.bias Parameter containing:\n",
      "tensor([-0.0678, -0.0107,  0.0759,  0.0485, -0.0480,  0.0861, -0.0297,  0.0166,\n",
      "         0.0751,  0.0882,  0.0614, -0.0360,  0.0426,  0.0422, -0.0408,  0.0374,\n",
      "        -0.0434, -0.0420,  0.0611,  0.0249, -0.0226, -0.0202, -0.0600, -0.0422,\n",
      "         0.0169, -0.0638,  0.0532,  0.0397,  0.0486, -0.0325, -0.0242, -0.0878,\n",
      "         0.0834,  0.0864,  0.0271,  0.0488,  0.0475,  0.0277, -0.0257, -0.0321,\n",
      "         0.0831,  0.0759, -0.0287, -0.0158, -0.0602, -0.0300,  0.0796, -0.0380,\n",
      "        -0.0155,  0.0781,  0.0488, -0.0119,  0.0623,  0.0212,  0.0322, -0.0248,\n",
      "        -0.0192, -0.0415, -0.0438, -0.0862,  0.0530,  0.0244, -0.0293,  0.0506,\n",
      "        -0.0751,  0.0133,  0.0119, -0.0869,  0.0856, -0.0100, -0.0626, -0.0679,\n",
      "         0.0117,  0.0735, -0.0212, -0.0416, -0.0199, -0.0545,  0.0360, -0.0592,\n",
      "        -0.0058,  0.0365,  0.0015, -0.0247, -0.0600,  0.0103,  0.0198, -0.0713,\n",
      "        -0.0416, -0.0681, -0.0167, -0.0767, -0.0860,  0.0297,  0.0650, -0.0613,\n",
      "         0.0297,  0.0106, -0.0802,  0.0657,  0.0717,  0.0515,  0.0584,  0.0827,\n",
      "        -0.0438, -0.0203, -0.0013,  0.0148,  0.0222,  0.0003,  0.0804, -0.0310,\n",
      "         0.0376, -0.0348, -0.0311,  0.0673, -0.0394,  0.0686,  0.0843, -0.0354,\n",
      "         0.0795, -0.0400, -0.0813,  0.0734,  0.0446, -0.0645, -0.0109,  0.0150,\n",
      "        -0.0070, -0.0568,  0.0115,  0.0620,  0.0467, -0.0487, -0.0536,  0.0458,\n",
      "        -0.0098,  0.0174,  0.0083,  0.0284,  0.0024, -0.0772, -0.0213,  0.0581,\n",
      "         0.0626,  0.0031, -0.0253,  0.0279,  0.0556,  0.0848,  0.0591,  0.0313,\n",
      "         0.0866, -0.0837, -0.0095, -0.0262, -0.0341, -0.0068, -0.0355,  0.0555,\n",
      "        -0.0709,  0.0161,  0.0109, -0.0883,  0.0172, -0.0430, -0.0675,  0.0311,\n",
      "         0.0403,  0.0329, -0.0828,  0.0238, -0.0405,  0.0081,  0.0152,  0.0696,\n",
      "        -0.0004, -0.0401, -0.0672,  0.0354, -0.0550,  0.0390, -0.0084,  0.0459,\n",
      "        -0.0286,  0.0435,  0.0102,  0.0578,  0.0554, -0.0731, -0.0175, -0.0487,\n",
      "         0.0248,  0.0698, -0.0063,  0.0661,  0.0288, -0.0786, -0.0030, -0.0537,\n",
      "         0.0006,  0.0371, -0.0835,  0.0297, -0.0093,  0.0607, -0.0146,  0.0414,\n",
      "         0.0657,  0.0030,  0.0604,  0.0206, -0.0693, -0.0404, -0.0666, -0.0147,\n",
      "        -0.0449, -0.0012, -0.0012,  0.0229,  0.0675, -0.0650,  0.0207, -0.0140,\n",
      "        -0.0638, -0.0661, -0.0667,  0.0570, -0.0292, -0.0724, -0.0356, -0.0626,\n",
      "        -0.0805,  0.0080,  0.0471, -0.0788,  0.0880, -0.0509,  0.0542, -0.0010,\n",
      "         0.0161, -0.0645,  0.0869, -0.0144,  0.0075, -0.0066, -0.0306, -0.0253,\n",
      "        -0.0460,  0.0123, -0.0354,  0.0701,  0.0361, -0.0429,  0.0689,  0.0350],\n",
      "       requires_grad=True) torch.Size([256])\n",
      "out.weight Parameter containing:\n",
      "tensor([[ 0.0187,  0.0025, -0.0142,  ..., -0.0488,  0.0623, -0.0542],\n",
      "        [-0.0293, -0.0531,  0.0182,  ...,  0.0086, -0.0599,  0.0239],\n",
      "        [ 0.0344,  0.0500, -0.0121,  ..., -0.0369,  0.0429, -0.0249],\n",
      "        ...,\n",
      "        [-0.0398, -0.0284,  0.0098,  ..., -0.0520, -0.0624,  0.0539],\n",
      "        [-0.0203,  0.0427, -0.0183,  ..., -0.0623,  0.0462, -0.0240],\n",
      "        [-0.0525,  0.0207,  0.0571,  ...,  0.0149, -0.0064,  0.0595]],\n",
      "       requires_grad=True) torch.Size([10, 256])\n",
      "out.bias Parameter containing:\n",
      "tensor([-0.0553,  0.0025, -0.0189, -0.0372,  0.0488,  0.0367, -0.0607, -0.0612,\n",
      "         0.0127, -0.0349], requires_grad=True) torch.Size([10])\n"
     ]
    }
   ],
   "source": [
    "for name, parameter in net.named_parameters():\n",
    "    print(name, parameter,parameter.size())"
   ]
  },
  {
   "cell_type": "markdown",
   "metadata": {},
   "source": [
    "### 使用TensorDataset和DataLoader来简化"
   ]
  },
  {
   "cell_type": "code",
   "execution_count": 398,
   "metadata": {
    "collapsed": true
   },
   "outputs": [],
   "source": [
    "from torch.utils.data import TensorDataset\n",
    "from torch.utils.data import DataLoader\n",
    "\n",
    "train_ds = TensorDataset(x_train, y_train)\n",
    "train_dl = DataLoader(train_ds, batch_size=bs, shuffle=True)\n",
    "\n",
    "valid_ds = TensorDataset(x_valid, y_valid)\n",
    "valid_dl = DataLoader(valid_ds, batch_size=bs * 2)"
   ]
  },
  {
   "cell_type": "code",
   "execution_count": null,
   "metadata": {},
   "outputs": [],
   "source": []
  },
  {
   "cell_type": "code",
   "execution_count": 399,
   "metadata": {
    "collapsed": true
   },
   "outputs": [],
   "source": [
    "def get_data(train_ds, valid_ds, bs):\n",
    "    return (\n",
    "        DataLoader(train_ds, batch_size=bs, shuffle=True),\n",
    "        DataLoader(valid_ds, batch_size=bs * 2),\n",
    "    )"
   ]
  },
  {
   "cell_type": "markdown",
   "metadata": {},
   "source": [
    "- 一般在训练模型时加上model.train()，这样会正常使用Batch Normalization和 Dropout\n",
    "- 测试的时候一般选择model.eval()，这样就不会使用Batch Normalization和 Dropout"
   ]
  },
  {
   "cell_type": "code",
   "execution_count": 400,
   "metadata": {
    "collapsed": true
   },
   "outputs": [],
   "source": [
    "import numpy as np\n",
    "#steps:训练次数(epoch)\n",
    "#model:模型(Mnist_NN)\n",
    "#loss_func:损失函数(F.cross_entropy)\n",
    "#opt:优化器(optim.SGD)\n",
    "#train_dl, valid_dl = get_data(train_ds, valid_ds, bs)\n",
    "#train_dl:训练集(train_ds = TensorDataset(x_train, y_train))\n",
    "#valid_dl:验证集(valid_ds = TensorDataset(x_valid, y_valid))\n",
    "train_losses = []  # List to store training losses\n",
    "valid_losses = []  # List to store validation losses\n",
    "def fit(steps, model, loss_func, opt, train_dl, valid_dl):\n",
    "    for step in range(steps):\n",
    "        model.train()\n",
    "        for xb, yb in train_dl:\n",
    "            loss=loss_batch(model, loss_func, xb, yb, opt)\n",
    "            tarinloss,trainnum = zip(*[loss])\n",
    "            train_loss=np.sum(np.multiply(tarinloss, trainnum)) / np.sum(trainnum)\n",
    "        train_losses.append(train_loss)\n",
    "\n",
    "        model.eval()\n",
    "        with torch.no_grad():\n",
    "            losses, nums = zip(\n",
    "                *[loss_batch(model, loss_func, xb, yb) for xb, yb in valid_dl]\n",
    "            )\n",
    "        val_loss = np.sum(np.multiply(losses, nums)) / np.sum(nums)\n",
    "        valid_losses.append(val_loss)\n",
    "        print('当前step:'+f'{step+1}/{steps}', f'Training Loss: {train_loss:.4f}','验证集损失：'+str(val_loss))\n"
   ]
  },
  {
   "cell_type": "code",
   "execution_count": 401,
   "metadata": {
    "collapsed": true
   },
   "outputs": [],
   "source": [
    "from torch import optim\n",
    "def get_model():\n",
    "    model = Mnist_NN()\n",
    "    return model, optim.SGD(model.parameters(), lr=0.001)"
   ]
  },
  {
   "cell_type": "code",
   "execution_count": 402,
   "metadata": {
    "collapsed": true
   },
   "outputs": [],
   "source": [
    "def loss_batch(model, loss_func, xb, yb, opt=None):\n",
    "    loss = loss_func(model(xb), yb)\n",
    "\n",
    "    if opt is not None:\n",
    "        loss.backward()\n",
    "        opt.step()\n",
    "        opt.zero_grad()\n",
    "\n",
    "    return loss.item(), len(xb)"
   ]
  },
  {
   "cell_type": "code",
   "execution_count": null,
   "metadata": {},
   "outputs": [],
   "source": []
  },
  {
   "cell_type": "markdown",
   "metadata": {},
   "source": [
    "### 三行搞定！"
   ]
  },
  {
   "cell_type": "code",
   "execution_count": 403,
   "metadata": {},
   "outputs": [
    {
     "name": "stdout",
     "output_type": "stream",
     "text": [
      "当前step:1/25 Training Loss: 2.2750 验证集损失：2.278624062728882\n",
      "当前step:2/25 Training Loss: 2.2755 验证集损失：2.242380581665039\n",
      "当前step:3/25 Training Loss: 2.2217 验证集损失：2.1873171924591066\n",
      "当前step:4/25 Training Loss: 2.1337 验证集损失：2.0968357955932615\n",
      "当前step:5/25 Training Loss: 1.9107 验证集损失：1.949976919555664\n",
      "当前step:6/25 Training Loss: 1.7960 验证集损失：1.7360699993133546\n",
      "当前step:7/25 Training Loss: 1.6018 验证集损失：1.4718210008621215\n",
      "当前step:8/25 Training Loss: 1.1552 验证集损失：1.2125050659179688\n",
      "当前step:9/25 Training Loss: 1.0455 验证集损失：1.0076023187637329\n",
      "当前step:10/25 Training Loss: 1.2922 验证集损失：0.8604043290138245\n",
      "当前step:11/25 Training Loss: 0.6934 验证集损失：0.7548569446563721\n",
      "当前step:12/25 Training Loss: 0.6181 验证集损失：0.6772268054962158\n",
      "当前step:13/25 Training Loss: 0.7560 验证集损失：0.6182123139381409\n",
      "当前step:14/25 Training Loss: 0.6540 验证集损失：0.5726623079299927\n",
      "当前step:15/25 Training Loss: 0.7111 验证集损失：0.5364098049163818\n",
      "当前step:16/25 Training Loss: 0.7932 验证集损失：0.5067625049591065\n",
      "当前step:17/25 Training Loss: 0.2974 验证集损失：0.48228466958999633\n",
      "当前step:18/25 Training Loss: 0.2969 验证集损失：0.4622232974052429\n",
      "当前step:19/25 Training Loss: 0.2955 验证集损失：0.44545173449516295\n",
      "当前step:20/25 Training Loss: 0.8502 验证集损失：0.43071390271186827\n",
      "当前step:21/25 Training Loss: 0.2475 验证集损失：0.4180377067089081\n",
      "当前step:22/25 Training Loss: 0.9447 验证集损失：0.40657500801086427\n",
      "当前step:23/25 Training Loss: 0.2837 验证集损失：0.3969449963569641\n",
      "当前step:24/25 Training Loss: 0.4671 验证集损失：0.3885374660253525\n",
      "当前step:25/25 Training Loss: 0.3581 验证集损失：0.38079195466041565\n"
     ]
    }
   ],
   "source": [
    "train_dl, valid_dl = get_data(train_ds, valid_ds, bs)\n",
    "model, opt = get_model()\n",
    "fit(25, model, loss_func, opt, train_dl, valid_dl)\n",
    "#print(train_loss,val_loss)"
   ]
  },
  {
   "cell_type": "code",
   "execution_count": 404,
   "metadata": {},
   "outputs": [],
   "source": [
    "#train_losses"
   ]
  },
  {
   "cell_type": "code",
   "execution_count": 405,
   "metadata": {},
   "outputs": [
    {
     "data": {
      "image/png": "[encoded data removed]",
      "text/plain": [
       "<Figure size 640x480 with 1 Axes>"
      ]
     },
     "metadata": {},
     "output_type": "display_data"
    }
   ],
   "source": [
    "pyplot.plot(train_losses, label='Training loss')\n",
    "pyplot.plot(valid_losses, label='Validation loss')\n",
    "pyplot.legend()\n",
    "pyplot.show()\n"
   ]
  },
  {
   "cell_type": "code",
   "execution_count": 406,
   "metadata": {},
   "outputs": [
    {
     "name": "stdout",
     "output_type": "stream",
     "text": [
      "Label: tensor(3) , Predicted: 3\n"
     ]
    },
    {
     "data": {
      "image/png": "[encoded data removed]",
      "text/plain": [
       "<Figure size 640x480 with 1 Axes>"
      ]
     },
     "metadata": {},
     "output_type": "display_data"
    }
   ],
   "source": [
    "#predict\n",
    "def predict_image(img, model):\n",
    "\n",
    "    xb = img.unsqueeze(0)\n",
    "    yb = model(xb)\n",
    "    _, preds  = torch.max(yb, dim=1)\n",
    "    return preds[0].item()\n",
    "\n",
    "img, label = valid_ds[0]\n",
    "pyplot.imshow(img.reshape((28,28)), cmap='gray')\n",
    "print('Label:', label, ', Predicted:', predict_image(img, model))\n"
   ]
  },
  {
   "cell_type": "code",
   "execution_count": 407,
   "metadata": {},
   "outputs": [
    {
     "data": {
      "image/png": "[encoded data removed]",
      "text/plain": [
       "<Figure size 800x600 with 1 Axes>"
      ]
     },
     "metadata": {},
     "output_type": "display_data"
    }
   ],
   "source": [
    "from sklearn.metrics import confusion_matrix\n",
    "import numpy as np\n",
    "\n",
    "# Create empty lists to store true and predicted labels\n",
    "true_labels = []\n",
    "predicted_labels = []\n",
    "\n",
    "# Set the model to evaluation mode\n",
    "model.eval()\n",
    "\n",
    "# Iterate through the DataLoader\n",
    "for xb, yb in valid_dl:\n",
    "    # Make predictions\n",
    "    with torch.no_grad():\n",
    "        yb_pred = model(xb)\n",
    "    _, preds = torch.max(yb_pred, dim=1)\n",
    "    \n",
    "    # Append true and predicted labels to the lists\n",
    "    true_labels.extend(yb.cpu().numpy())\n",
    "    predicted_labels.extend(preds.cpu().numpy())\n",
    "\n",
    "# Compute the confusion matrix\n",
    "confusion = confusion_matrix(true_labels, predicted_labels)\n",
    "\n",
    "# Optionally, you can create a heatmap to visualize the confusion matrix\n",
    "import seaborn as sns\n",
    "import matplotlib.pyplot as plt\n",
    "\n",
    "plt.figure(figsize=(8, 6))\n",
    "sns.heatmap(confusion, annot=True, fmt='d', cmap='Blues', cbar=False)\n",
    "plt.xlabel('Predicted Labels')\n",
    "plt.ylabel('True Labels')\n",
    "plt.title('Confusion Matrix')\n",
    "plt.show()\n"
   ]
  }
 ],
 "metadata": {
  "kernelspec": {
   "display_name": "Python 3",
   "language": "python",
   "name": "python3"
  },
  "language_info": {
   "codemirror_mode": {
    "name": "ipython",
    "version": 3
   },
   "file_extension": ".py",
   "mimetype": "text/x-python",
   "name": "python",
   "nbconvert_exporter": "python",
   "pygments_lexer": "ipython3",
   "version": "3.10.12"
  }
 },
 "nbformat": 4,
 "nbformat_minor": 1
}
