{
 "cells": [
  {
   "attachments": {},
   "cell_type": "markdown",
   "metadata": {},
   "source": [
    "# Uebung 4 Mehrklassenklassifikation mit Neuronalen Netzen\n"
   ]
  },
  {
   "attachments": {},
   "cell_type": "markdown",
   "metadata": {},
   "source": [
    "## Imports"
   ]
  },
  {
   "cell_type": "code",
   "execution_count": 64,
   "metadata": {},
   "outputs": [],
   "source": [
    "import seaborn as sn"
   ]
  },
  {
   "cell_type": "code",
   "execution_count": 65,
   "metadata": {},
   "outputs": [
    {
     "data": {
      "text/plain": [
       "True"
      ]
     },
     "execution_count": 65,
     "metadata": {},
     "output_type": "execute_result"
    }
   ],
   "source": [
    "# 测试\n",
    "import tensorflow as tf \n",
    "from tensorflow.keras.callbacks import EarlyStopping\n",
    "\n",
    "tf.test.is_gpu_available() #旧版，返回True表示成功\n",
    "\n"
   ]
  },
  {
   "cell_type": "code",
   "execution_count": 66,
   "metadata": {
    "pycharm": {
     "is_executing": true
    }
   },
   "outputs": [
    {
     "name": "stdout",
     "output_type": "stream",
     "text": [
      "Tensor Flow Version: 2.3.0\n"
     ]
    }
   ],
   "source": [
    "import os \n",
    "import numpy as np\n",
    "import tensorflow as tf\n",
    "print(f\"Tensor Flow Version: {tf.__version__}\")\n",
    "from tensorflow import keras\n",
    "from tensorflow.keras import layers,models\n",
    "\n",
    "\n",
    "from sklearn.model_selection import train_test_split\n",
    "from sklearn.metrics import classification_report, confusion_matrix\n",
    "import matplotlib.pyplot as plt\n",
    "\n",
    "import wget\n",
    "import pandas as pd\n",
    "from skimage import io\n",
    "from ipywidgets import interact, interactive, fixed, interact_manual, widgets\n",
    "from skimage import io\n",
    "from skimage.transform import resize\n",
    "from mpl_toolkits.mplot3d import Axes3D\n",
    "\n",
    "from sklearn import decomposition\n",
    "from sklearn.decomposition import PCA\n",
    "from sklearn.model_selection import learning_curve, train_test_split, ShuffleSplit\n",
    "from sklearn.metrics import confusion_matrix, f1_score, accuracy_score\n",
    "from sklearn.preprocessing import StandardScaler\n",
    "from sklearn.naive_bayes import GaussianNB\n",
    "from sklearn.svm import SVC"
   ]
  },
  {
   "attachments": {},
   "cell_type": "markdown",
   "metadata": {},
   "source": [
    "## Globale Variablen\n",
    "Definiere an dieser Stelle alle Variablen, die global verwendet werden, z.B.: Pfadnamen"
   ]
  },
  {
   "cell_type": "code",
   "execution_count": 67,
   "metadata": {
    "pycharm": {
     "is_executing": true
    }
   },
   "outputs": [],
   "source": [
    "# Prohibitory Class IDs \n",
    "PROHIBITORY_CLASS_IDs = [ 0, 1, 2, 3, 4, 5, 7, 8, 9, 10, 15, 16]\n",
    "\n",
    "# Mandatory Class IDs\n",
    "MANDATORY_CLASS_IDs = [ 33, 34, 35, 36, 37, 38, 39, 40 ]\n",
    "\n",
    "# Danger Class IDs\n",
    "DANGER_CLASS_IDs = [ 11, 18, 19, 20, 21, 22, 23, 24, 25, 26, 27, 28, 29, 30, 31 ]"
   ]
  },
  {
   "cell_type": "code",
   "execution_count": null,
   "metadata": {},
   "outputs": [],
   "source": []
  },
  {
   "cell_type": "code",
   "execution_count": 68,
   "metadata": {},
   "outputs": [
    {
     "name": "stdout",
     "output_type": "stream",
     "text": [
      "[10, 38]\n"
     ]
    }
   ],
   "source": [
    "# TO DO: Festlegen, welche Klassen betrachtet werden\n",
    "\n",
    "#CONSIDERED_CLASS_IDs = PROHIBITORY_CLASS_IDs\n",
    "CONSIDERED_CLASS_IDs = [PROHIBITORY_CLASS_IDs[9],MANDATORY_CLASS_IDs[5]]\n",
    "#CONSIDERED_CLASS_IDs = [PROHIBITORY_CLASS_IDs[9]]\n",
    "\n",
    "print(CONSIDERED_CLASS_IDs)"
   ]
  },
  {
   "cell_type": "code",
   "execution_count": 69,
   "metadata": {},
   "outputs": [],
   "source": [
    "PATH_TO_GTSDB_DATA_FOLDER = r'D:\\studydata\\machine_bild_learn\\bga2\\FullIJCNN2013'\n",
    "assert os.path.exists(PATH_TO_GTSDB_DATA_FOLDER), \"Der angegebene Pfad existriert nicht.\""
   ]
  },
  {
   "cell_type": "code",
   "execution_count": 70,
   "metadata": {},
   "outputs": [],
   "source": [
    "DATA_PATH_FINAL_TRAINING_IMAGES = r'D:\\studydata\\machine_bild_learn\\bga2\\GTSRB_Final_Training_Images\\GTSRB\\Final_Training\\Images'\n",
    "\n",
    "# Prüfe, ob der Pfad existiert / korrekt eingegeben wurde\n",
    "assert os.path.exists(DATA_PATH_FINAL_TRAINING_IMAGES), \"Der angegebene Pfad existriert nicht.\""
   ]
  },
  {
   "cell_type": "code",
   "execution_count": 71,
   "metadata": {},
   "outputs": [],
   "source": [
    "DATA_PATH_HOG_01 = r'D:\\studydata\\machine_bild_learn\\bga2\\GTSRB_Final_Training_HOG\\GTSRB\\Final_Training\\HOG\\HOG_01'\n",
    "\n",
    "# Prüfe, ob der Pfad existiert / korrekt eingegeben wurde\n",
    "assert os.path.exists(DATA_PATH_HOG_01), \"Der angegebene Pfad existriert nicht.\""
   ]
  },
  {
   "cell_type": "code",
   "execution_count": null,
   "metadata": {},
   "outputs": [],
   "source": []
  },
  {
   "attachments": {},
   "cell_type": "markdown",
   "metadata": {},
   "source": [
    "## Datenaufbereitung\n",
    "Hinweise findest du hier: https://keras.io/getting_started/intro_to_keras_for_engineers/#data-loading-amp-preprocessing"
   ]
  },
  {
   "cell_type": "code",
   "execution_count": 72,
   "metadata": {},
   "outputs": [],
   "source": [
    "def build_train_test_datasets(CONSIDERED_CLASS_IDs, path_to_data_folder, suffix='txt'):\n",
    "    '''\n",
    "    Liest die Daten aus dem vorgegebenen Datenordner ein und teilt sie in train- und test-Datensaetze auf\n",
    "    \n",
    "    '''\n",
    "    if suffix != 'txt' and suffix != 'ppm':\n",
    "        print (\"Abbruch der Funktion: Suffix nicht zutreffend. gueltige Suffixes sind txt oder ppm\")\n",
    "        return \n",
    "    \n",
    "    data = []\n",
    "    ppm_data = []\n",
    "    data_labels = []\n",
    "    subfolders_list = os.listdir(path_to_data_folder)\n",
    "  \n",
    "    considered_subfolders = [subfolder for subfolder in subfolders_list if int(subfolder) in CONSIDERED_CLASS_IDs]\n",
    "    for subfolder in considered_subfolders:\n",
    "       \n",
    "        path_to_considered_datafolder = os.path.join(path_to_data_folder, subfolder)\n",
    "        for filepath in os.listdir(path_to_considered_datafolder):\n",
    "            # Final Training HOG Features of GTSRB-Images\n",
    "            if filepath.endswith(suffix):\n",
    "                full_filepath = os.path.join(path_to_data_folder, subfolder, filepath)\n",
    "                assert os.path.exists(full_filepath), \"Der angegebene Pfad existriert nicht.\"\n",
    "                if suffix == 'txt':\n",
    "                    text_file = open(full_filepath, \"r\")\n",
    "                    txt_lines = text_file.read().split('\\n')\n",
    "                    txt_lines = [float(x) for x in txt_lines]\n",
    "                    data.append(txt_lines)\n",
    "                    data_labels.append(int(subfolder))\n",
    "                else:\n",
    "                    ppm_file = io.imread(full_filepath)\n",
    "                    ppm_file_resized = resize(ppm_file, (40, 40), anti_aliasing=True)\n",
    "                    data.append(ppm_file_resized)\n",
    "                    data_labels.append(int(subfolder))\n",
    "\n",
    "\n",
    "    data = np.array(data, dtype=np.float32)\n",
    "    data_labels = np.array(data_labels)\n",
    "   # pd.get_dummies(np.array(data_labels)).values    #  np.array(data_labels)\n",
    "\n",
    "\n",
    "    X_train, X_val, y_tain, y_val = train_test_split(data,data_labels, test_size=0.1, random_state=42)\n",
    "        \n",
    "    \n",
    "    return X_train, X_val, y_tain, y_val, data, data_labels"
   ]
  },
  {
   "cell_type": "code",
   "execution_count": 73,
   "metadata": {},
   "outputs": [],
   "source": [
    "X_train_hog_01, X_val_hog_01, y_train_hog_01, y_val_hog_01, txt_data_hog_01, data_labels_hog_01 = build_train_test_datasets(CONSIDERED_CLASS_IDs, DATA_PATH_FINAL_TRAINING_IMAGES, suffix='ppm')"
   ]
  },
  {
   "cell_type": "code",
   "execution_count": 74,
   "metadata": {},
   "outputs": [
    {
     "name": "stdout",
     "output_type": "stream",
     "text": [
      "(3672, 40, 40, 3)\n",
      "(3672,)\n",
      "(408, 40, 40, 3)\n",
      "(408,)\n"
     ]
    }
   ],
   "source": [
    "print(X_train_hog_01.shape)\n",
    "print(y_train_hog_01.shape)\n",
    "print(X_val_hog_01.shape)  \n",
    "print(y_val_hog_01.shape)"
   ]
  },
  {
   "cell_type": "code",
   "execution_count": null,
   "metadata": {},
   "outputs": [],
   "source": []
  },
  {
   "attachments": {},
   "cell_type": "markdown",
   "metadata": {},
   "source": [
    "## Aufbau des Modells\n",
    "Zum Aufbau deines Modells kannst du dich an die gezeigten Beispiele richten. Implementiere zuerst ein einfaches Modell, welches du je nach Performance erweitern kannst. \n",
    "\n",
    "Unten findest du die Auflistung der Schichten (Layers), die du für dein Modell miteinander kombinieren kannst. \n",
    "\n",
    "\n",
    "Überlege dir, welche Layers für die Klassifikationsaufgabe mit HOG-Features gut sind und welche Layer sich für die Klassifikationsaufgabe mit ppm-Dateien eignen."
   ]
  },
  {
   "cell_type": "code",
   "execution_count": 75,
   "metadata": {},
   "outputs": [],
   "source": [
    "from tensorflow.keras import regularizers\n"
   ]
  },
  {
   "cell_type": "code",
   "execution_count": 76,
   "metadata": {},
   "outputs": [],
   "source": [
    "model = models.Sequential([\n",
    "    tf.keras.Input(shape=(40,40,3)),\n",
    "    tf.keras.layers.Conv2D(32,(3,3),activation='relu',kernel_regularizer=regularizers.l2(0.01)),\n",
    "    tf.keras.layers.MaxPooling2D(pool_size=(2, 2)),    \n",
    "    tf.keras.layers.Dropout(0.25),\n",
    "    \n",
    "    tf.keras.layers.Conv2D(64,(3,3),activation='relu',kernel_regularizer=regularizers.l2(0.01)),\n",
    "    tf.keras.layers.Conv2D(64,(3,3),activation='relu',kernel_regularizer=regularizers.l2(0.01)),\n",
    "    tf.keras.layers.MaxPooling2D(pool_size=(2, 2)),    \n",
    "    \n",
    "    tf.keras.layers.Flatten(),\n",
    "    tf.keras.layers.Dropout(0.25),\n",
    "    tf.keras.layers.Dense(256),\n",
    "    tf.keras.layers.Dense(43 ),\n",
    "    tf.keras.layers.Activation('softmax')\n",
    "    \n",
    "])\n",
    "\n",
    "\n",
    "\n",
    "keras.backend.clear_session()"
   ]
  },
  {
   "cell_type": "code",
   "execution_count": 77,
   "metadata": {},
   "outputs": [
    {
     "name": "stdout",
     "output_type": "stream",
     "text": [
      "Model: \"sequential\"\n",
      "_________________________________________________________________\n",
      "Layer (type)                 Output Shape              Param #   \n",
      "=================================================================\n",
      "conv2d (Conv2D)              (None, 38, 38, 32)        896       \n",
      "_________________________________________________________________\n",
      "max_pooling2d (MaxPooling2D) (None, 19, 19, 32)        0         \n",
      "_________________________________________________________________\n",
      "dropout (Dropout)            (None, 19, 19, 32)        0         \n",
      "_________________________________________________________________\n",
      "conv2d_1 (Conv2D)            (None, 17, 17, 64)        18496     \n",
      "_________________________________________________________________\n",
      "conv2d_2 (Conv2D)            (None, 15, 15, 64)        36928     \n",
      "_________________________________________________________________\n",
      "max_pooling2d_1 (MaxPooling2 (None, 7, 7, 64)          0         \n",
      "_________________________________________________________________\n",
      "flatten (Flatten)            (None, 3136)              0         \n",
      "_________________________________________________________________\n",
      "dropout_1 (Dropout)          (None, 3136)              0         \n",
      "_________________________________________________________________\n",
      "dense (Dense)                (None, 256)               803072    \n",
      "_________________________________________________________________\n",
      "dense_1 (Dense)              (None, 43)                11051     \n",
      "_________________________________________________________________\n",
      "activation (Activation)      (None, 43)                0         \n",
      "=================================================================\n",
      "Total params: 870,443\n",
      "Trainable params: 870,443\n",
      "Non-trainable params: 0\n",
      "_________________________________________________________________\n"
     ]
    }
   ],
   "source": [
    "model.summary()"
   ]
  },
  {
   "cell_type": "code",
   "execution_count": 78,
   "metadata": {},
   "outputs": [
    {
     "name": "stdout",
     "output_type": "stream",
     "text": [
      "('Failed to import pydot. You must `pip install pydot` and install graphviz (https://graphviz.gitlab.io/download/), ', 'for `pydotprint` to work.')\n"
     ]
    }
   ],
   "source": [
    "tf.keras.utils.plot_model(model,  show_shapes=True)"
   ]
  },
  {
   "attachments": {},
   "cell_type": "markdown",
   "metadata": {},
   "source": [
    "## Kompilieren des Modells\n",
    "Eine detaillierte Beschreibung der [compile](https://keras.io/api/models/model_training_apis/#compile-method)-Methode findest du in Keras API Referenz."
   ]
  },
  {
   "cell_type": "code",
   "execution_count": 79,
   "metadata": {},
   "outputs": [],
   "source": [
    "early_stopping = EarlyStopping(monitor='val_loss', patience=5, restore_best_weights=True)\n",
    "batch_size=8\n",
    "epochs=50\n",
    "\n",
    "\n",
    "# Kompiliere das Modell\n",
    "model.compile(loss='sparse_categorical_crossentropy',\n",
    "              #optimizer=keras.optimizers.Adam(learning_rate=0.0001),\n",
    "             # optimizer='adam',\n",
    "              optimizer = keras.optimizers.SGD(lr=0.003, momentum=0.9, clipnorm=1.),\n",
    "\n",
    "             # optimizer=keras.optimizers.SGD(learning_rate=0.001),\n",
    "              metrics=['accuracy'])"
   ]
  },
  {
   "attachments": {},
   "cell_type": "markdown",
   "metadata": {},
   "source": [
    "## Training des Modells\n",
    "Eine detaillierte Beschreibung der [fit](https://keras.io/api/models/model_training_apis/#fit-method)-Methode findest du in Keras API Referenz."
   ]
  },
  {
   "cell_type": "code",
   "execution_count": 80,
   "metadata": {},
   "outputs": [
    {
     "name": "stdout",
     "output_type": "stream",
     "text": [
      "Epoch 1/50\n"
     ]
    },
    {
     "name": "stdout",
     "output_type": "stream",
     "text": [
      "459/459 [==============================] - 1s 3ms/step - loss: 1.9758 - accuracy: 0.4943 - val_loss: 1.4719 - val_accuracy: 0.5294\n",
      "Epoch 2/50\n",
      "459/459 [==============================] - 1s 3ms/step - loss: 1.2553 - accuracy: 0.5076 - val_loss: 1.5858 - val_accuracy: 0.5049\n",
      "Epoch 3/50\n",
      "459/459 [==============================] - 1s 3ms/step - loss: 1.0246 - accuracy: 0.5079 - val_loss: 1.0343 - val_accuracy: 0.4926\n",
      "Epoch 4/50\n",
      "459/459 [==============================] - 1s 3ms/step - loss: 0.8959 - accuracy: 0.5008 - val_loss: 1.5078 - val_accuracy: 0.4706\n",
      "Epoch 5/50\n",
      "459/459 [==============================] - 1s 3ms/step - loss: 0.8307 - accuracy: 0.4837 - val_loss: 0.7985 - val_accuracy: 0.4755\n",
      "Epoch 6/50\n",
      "459/459 [==============================] - 1s 3ms/step - loss: 0.7843 - accuracy: 0.4877 - val_loss: 0.7479 - val_accuracy: 0.5343\n",
      "Epoch 7/50\n",
      "459/459 [==============================] - 1s 3ms/step - loss: 0.7614 - accuracy: 0.5014 - val_loss: 1.1045 - val_accuracy: 0.5123\n",
      "Epoch 8/50\n",
      "459/459 [==============================] - 1s 3ms/step - loss: 0.7589 - accuracy: 0.5109 - val_loss: 0.7971 - val_accuracy: 0.4804\n",
      "Epoch 9/50\n",
      "459/459 [==============================] - 1s 3ms/step - loss: 0.7183 - accuracy: 0.5095 - val_loss: 0.7752 - val_accuracy: 0.5025\n",
      "Epoch 10/50\n",
      "459/459 [==============================] - 1s 3ms/step - loss: 0.7136 - accuracy: 0.5112 - val_loss: 0.7520 - val_accuracy: 0.5123\n",
      "Epoch 11/50\n",
      "459/459 [==============================] - 1s 3ms/step - loss: 0.7137 - accuracy: 0.5120 - val_loss: 0.8563 - val_accuracy: 0.4706\n",
      "Final training epoch: 9\n"
     ]
    }
   ],
   "source": [
    "\n",
    "history = model.fit(X_train_hog_01,y_train_hog_01,validation_data=(X_val_hog_01, y_val_hog_01), batch_size=batch_size,epochs=epochs,callbacks=[early_stopping])\n",
    "final_epoch = early_stopping.stopped_epoch - 1\n",
    "print(\"Final training epoch:\", final_epoch)\n",
    "# Die Warnung kannst du ignorieren."
   ]
  },
  {
   "cell_type": "code",
   "execution_count": 81,
   "metadata": {},
   "outputs": [
    {
     "data": {
      "text/plain": [
       "{'loss': [1.9757611751556396,\n",
       "  1.2553263902664185,\n",
       "  1.02456796169281,\n",
       "  0.8958967328071594,\n",
       "  0.8306678533554077,\n",
       "  0.7842772006988525,\n",
       "  0.7613720893859863,\n",
       "  0.7589049339294434,\n",
       "  0.718296468257904,\n",
       "  0.7136038541793823,\n",
       "  0.7137129306793213],\n",
       " 'accuracy': [0.4942810535430908,\n",
       "  0.5076252818107605,\n",
       "  0.5078976154327393,\n",
       "  0.5008170008659363,\n",
       "  0.48366013169288635,\n",
       "  0.48774510622024536,\n",
       "  0.5013616681098938,\n",
       "  0.5108932256698608,\n",
       "  0.5095316171646118,\n",
       "  0.5111655592918396,\n",
       "  0.5119825601577759],\n",
       " 'val_loss': [1.471934199333191,\n",
       "  1.5857808589935303,\n",
       "  1.0343351364135742,\n",
       "  1.507813811302185,\n",
       "  0.7985129952430725,\n",
       "  0.7479146122932434,\n",
       "  1.1044858694076538,\n",
       "  0.7971144318580627,\n",
       "  0.7751826047897339,\n",
       "  0.7519771456718445,\n",
       "  0.856322169303894],\n",
       " 'val_accuracy': [0.529411792755127,\n",
       "  0.5049019455909729,\n",
       "  0.49264705181121826,\n",
       "  0.47058823704719543,\n",
       "  0.47549018263816833,\n",
       "  0.5343137383460999,\n",
       "  0.5122548937797546,\n",
       "  0.4803921580314636,\n",
       "  0.5024510025978088,\n",
       "  0.5122548937797546,\n",
       "  0.47058823704719543]}"
      ]
     },
     "execution_count": 81,
     "metadata": {},
     "output_type": "execute_result"
    }
   ],
   "source": [
    "history.history"
   ]
  },
  {
   "cell_type": "code",
   "execution_count": null,
   "metadata": {},
   "outputs": [],
   "source": []
  },
  {
   "attachments": {},
   "cell_type": "markdown",
   "metadata": {},
   "source": [
    "## Evaluation des Modells\n",
    "Eine detaillierte Beschreibung der [evaluate](https://keras.io/api/models/model_training_apis/#evaluate-method)-Methode findest du in Keras API Referenz.\n",
    "\n",
    "Nach der Anwendung der *evaluate*-Methode kannst du dir zusätzlich den ausfuehrlichen Klassifikationsbericht (*classification_report()*) sowie die Konfusionsmatrix (*confusion_matrix()*) anschauen.  "
   ]
  },
  {
   "cell_type": "code",
   "execution_count": 82,
   "metadata": {},
   "outputs": [
    {
     "name": "stdout",
     "output_type": "stream",
     "text": [
      "Test Loss: 0.7425784468650818\n",
      "Test accuracy: 0.529411792755127\n",
      "dict_keys(['loss', 'accuracy', 'val_loss', 'val_accuracy'])\n"
     ]
    },
    {
     "data": {
      "text/plain": [
       "<matplotlib.legend.Legend at 0x216db2d1708>"
      ]
     },
     "execution_count": 82,
     "metadata": {},
     "output_type": "execute_result"
    },
    {
     "data": {
      "image/png": "[encoded data removed]",
      "text/plain": [
       "<Figure size 700x500 with 1 Axes>"
      ]
     },
     "metadata": {},
     "output_type": "display_data"
    }
   ],
   "source": [
    "# Evaluiere das trainierte Modell mit den Testdaten\n",
    "loss,accuracy = model.evaluate(X_val_hog_01, y_val_hog_01,verbose = 0)\n",
    "\n",
    "\n",
    "print('Test Loss:', loss)\n",
    "print('Test accuracy:', accuracy)\n",
    "print(history.history.keys())\n",
    "plt.plot(history.history['loss'])\n",
    "plt.plot(history.history['accuracy'])\n",
    "plt.title('model accuracy')\n",
    "plt.ylabel('accuracy')\n",
    "plt.xlabel('epoch')\n",
    "plt.legend(['loss','accuracy'], loc='upper left')\n",
    "\n"
   ]
  },
  {
   "attachments": {},
   "cell_type": "markdown",
   "metadata": {},
   "source": [
    "## Speichern des trainierten Modells\n",
    "Zum Speichern des trainierten Modells kann *save*-Methode\n",
    "Weiterfuehrende Informationen zu dieser Methode unter folgendem [Link](https://keras.io/api/models/model_saving_apis/) zu finden. "
   ]
  },
  {
   "cell_type": "code",
   "execution_count": 83,
   "metadata": {},
   "outputs": [
    {
     "name": "stdout",
     "output_type": "stream",
     "text": [
      "INFO:tensorflow:Assets written to: D:\\studydata\\machine bild learn\\bga2\\model\\assets\n"
     ]
    }
   ],
   "source": [
    "# Speichere das trainierte Modell, um dessen Wiederverwendung zu ermoeglichen\n",
    "FILEPATH = r'D:\\studydata\\machine bild learn\\bga2\\model'\n",
    "model.save(FILEPATH)"
   ]
  },
  {
   "attachments": {},
   "cell_type": "markdown",
   "metadata": {},
   "source": [
    "## Nutzen des trainierten Modells zum Vorhersagen von Verkehrszeichen-Klassen \n",
    "Zum Wiederverwenden des trainierten gespeicherten Modells kann die [load_model](https://keras.io/api/models/model_saving_apis/#loadmodel-function)-Funktionverwendet werden.\n",
    "\n",
    "Eine detaillierte Beschreibung der [predict](https://keras.io/api/models/model_training_apis/#predict-method)-Methode findest du in Keras API Referenz."
   ]
  },
  {
   "cell_type": "code",
   "execution_count": 84,
   "metadata": {},
   "outputs": [
    {
     "name": "stdout",
     "output_type": "stream",
     "text": [
      "(408, 43)\n",
      "(408,)\n",
      "(408,)\n"
     ]
    },
    {
     "data": {
      "text/plain": [
       "<AxesSubplot:xlabel='Predicted', ylabel='Actual'>"
      ]
     },
     "execution_count": 84,
     "metadata": {},
     "output_type": "execute_result"
    },
    {
     "data": {
      "image/png": "[encoded data removed]",
      "text/plain": [
       "<Figure size 700x500 with 2 Axes>"
      ]
     },
     "metadata": {},
     "output_type": "display_data"
    }
   ],
   "source": [
    "# Lade das trainierte Modell und teste die Erkennung der Verkehrszeichen-Klassen mit eigenen Beispielen\n",
    "y_pred = model.predict(X_val_hog_01)\n",
    "print(y_pred.shape)\n",
    "predicted = np.argmax(y_pred, axis=1)\n",
    "print(predicted.shape)\n",
    "actual=y_val_hog_01\n",
    "print(actual.shape)\n",
    "\n",
    "plt.rcParams['figure.figsize'] = [7,5]\n",
    "confusion_matrix = pd.crosstab(actual, predicted, rownames=['Actual'], colnames=['Predicted'],margins = True)\n",
    "sn.heatmap(confusion_matrix, annot=True, fmt='g')"
   ]
  },
  {
   "cell_type": "code",
   "execution_count": null,
   "metadata": {},
   "outputs": [],
   "source": []
  },
  {
   "cell_type": "code",
   "execution_count": null,
   "metadata": {},
   "outputs": [],
   "source": []
  },
  {
   "cell_type": "code",
   "execution_count": null,
   "metadata": {},
   "outputs": [],
   "source": []
  },
  {
   "cell_type": "code",
   "execution_count": null,
   "metadata": {},
   "outputs": [],
   "source": []
  },
  {
   "cell_type": "code",
   "execution_count": null,
   "metadata": {},
   "outputs": [],
   "source": []
  },
  {
   "cell_type": "code",
   "execution_count": null,
   "metadata": {},
   "outputs": [],
   "source": []
  },
  {
   "cell_type": "code",
   "execution_count": null,
   "metadata": {},
   "outputs": [],
   "source": []
  },
  {
   "cell_type": "code",
   "execution_count": null,
   "metadata": {},
   "outputs": [],
   "source": []
  },
  {
   "cell_type": "code",
   "execution_count": null,
   "metadata": {},
   "outputs": [],
   "source": []
  },
  {
   "cell_type": "code",
   "execution_count": null,
   "metadata": {},
   "outputs": [],
   "source": []
  },
  {
   "cell_type": "code",
   "execution_count": null,
   "metadata": {},
   "outputs": [],
   "source": []
  },
  {
   "cell_type": "code",
   "execution_count": null,
   "metadata": {},
   "outputs": [],
   "source": []
  }
 ],
 "metadata": {
  "kernelspec": {
   "display_name": "Python 3",
   "language": "python",
   "name": "python3"
  },
  "language_info": {
   "codemirror_mode": {
    "name": "ipython",
    "version": 3
   },
   "file_extension": ".py",
   "mimetype": "text/x-python",
   "name": "python",
   "nbconvert_exporter": "python",
   "pygments_lexer": "ipython3",
   "version": "3.7.16"
  }
 },
 "nbformat": 4,
 "nbformat_minor": 4
}
